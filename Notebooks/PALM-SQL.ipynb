{
  "cells": [
    {
      "cell_type": "code",
      "execution_count": 1,
      "metadata": {
        "id": "kWIuwKG2_oWE",
        "colab": {
          "base_uri": "https://localhost:8080/",
          "height": 565
        },
        "outputId": "3e253430-90e3-4d67-8561-cd6e12ba4c12"
      },
      "outputs": [
        {
          "output_type": "stream",
          "name": "stdout",
          "text": [
            "Looking in indexes: https://pypi.org/simple, https://us-python.pkg.dev/colab-wheels/public/simple/\n",
            "Collecting google-generativeai\n",
            "  Downloading google_generativeai-0.1.0-py3-none-any.whl (122 kB)\n",
            "\u001b[2K     \u001b[90m━━━━━━━━━━━━━━━━━━━━━━━━━━━━━━━━━━━━━━━\u001b[0m \u001b[32m122.9/122.9 kB\u001b[0m \u001b[31m3.1 MB/s\u001b[0m eta \u001b[36m0:00:00\u001b[0m\n",
            "\u001b[?25hCollecting google-ai-generativelanguage==0.2.0 (from google-generativeai)\n",
            "  Downloading google_ai_generativelanguage-0.2.0-py3-none-any.whl (113 kB)\n",
            "\u001b[2K     \u001b[90m━━━━━━━━━━━━━━━━━━━━━━━━━━━━━━━━━━━━━━\u001b[0m \u001b[32m113.3/113.3 kB\u001b[0m \u001b[31m12.0 MB/s\u001b[0m eta \u001b[36m0:00:00\u001b[0m\n",
            "\u001b[?25hRequirement already satisfied: google-api-core[grpc]!=2.0.*,!=2.1.*,!=2.10.*,!=2.2.*,!=2.3.*,!=2.4.*,!=2.5.*,!=2.6.*,!=2.7.*,!=2.8.*,!=2.9.*,<3.0.0dev,>=1.34.0 in /usr/local/lib/python3.10/dist-packages (from google-ai-generativelanguage==0.2.0->google-generativeai) (2.11.0)\n",
            "Requirement already satisfied: proto-plus<2.0.0dev,>=1.22.0 in /usr/local/lib/python3.10/dist-packages (from google-ai-generativelanguage==0.2.0->google-generativeai) (1.22.2)\n",
            "Requirement already satisfied: protobuf!=3.20.0,!=3.20.1,!=4.21.0,!=4.21.1,!=4.21.2,!=4.21.3,!=4.21.4,!=4.21.5,<5.0.0dev,>=3.19.5 in /usr/local/lib/python3.10/dist-packages (from google-ai-generativelanguage==0.2.0->google-generativeai) (3.20.3)\n",
            "Requirement already satisfied: googleapis-common-protos<2.0dev,>=1.56.2 in /usr/local/lib/python3.10/dist-packages (from google-api-core[grpc]!=2.0.*,!=2.1.*,!=2.10.*,!=2.2.*,!=2.3.*,!=2.4.*,!=2.5.*,!=2.6.*,!=2.7.*,!=2.8.*,!=2.9.*,<3.0.0dev,>=1.34.0->google-ai-generativelanguage==0.2.0->google-generativeai) (1.59.0)\n",
            "Requirement already satisfied: google-auth<3.0dev,>=2.14.1 in /usr/local/lib/python3.10/dist-packages (from google-api-core[grpc]!=2.0.*,!=2.1.*,!=2.10.*,!=2.2.*,!=2.3.*,!=2.4.*,!=2.5.*,!=2.6.*,!=2.7.*,!=2.8.*,!=2.9.*,<3.0.0dev,>=1.34.0->google-ai-generativelanguage==0.2.0->google-generativeai) (2.17.3)\n",
            "Requirement already satisfied: requests<3.0.0dev,>=2.18.0 in /usr/local/lib/python3.10/dist-packages (from google-api-core[grpc]!=2.0.*,!=2.1.*,!=2.10.*,!=2.2.*,!=2.3.*,!=2.4.*,!=2.5.*,!=2.6.*,!=2.7.*,!=2.8.*,!=2.9.*,<3.0.0dev,>=1.34.0->google-ai-generativelanguage==0.2.0->google-generativeai) (2.27.1)\n",
            "Requirement already satisfied: grpcio<2.0dev,>=1.33.2 in /usr/local/lib/python3.10/dist-packages (from google-api-core[grpc]!=2.0.*,!=2.1.*,!=2.10.*,!=2.2.*,!=2.3.*,!=2.4.*,!=2.5.*,!=2.6.*,!=2.7.*,!=2.8.*,!=2.9.*,<3.0.0dev,>=1.34.0->google-ai-generativelanguage==0.2.0->google-generativeai) (1.54.0)\n",
            "Requirement already satisfied: grpcio-status<2.0dev,>=1.33.2 in /usr/local/lib/python3.10/dist-packages (from google-api-core[grpc]!=2.0.*,!=2.1.*,!=2.10.*,!=2.2.*,!=2.3.*,!=2.4.*,!=2.5.*,!=2.6.*,!=2.7.*,!=2.8.*,!=2.9.*,<3.0.0dev,>=1.34.0->google-ai-generativelanguage==0.2.0->google-generativeai) (1.48.2)\n",
            "Requirement already satisfied: cachetools<6.0,>=2.0.0 in /usr/local/lib/python3.10/dist-packages (from google-auth<3.0dev,>=2.14.1->google-api-core[grpc]!=2.0.*,!=2.1.*,!=2.10.*,!=2.2.*,!=2.3.*,!=2.4.*,!=2.5.*,!=2.6.*,!=2.7.*,!=2.8.*,!=2.9.*,<3.0.0dev,>=1.34.0->google-ai-generativelanguage==0.2.0->google-generativeai) (5.3.0)\n",
            "Requirement already satisfied: pyasn1-modules>=0.2.1 in /usr/local/lib/python3.10/dist-packages (from google-auth<3.0dev,>=2.14.1->google-api-core[grpc]!=2.0.*,!=2.1.*,!=2.10.*,!=2.2.*,!=2.3.*,!=2.4.*,!=2.5.*,!=2.6.*,!=2.7.*,!=2.8.*,!=2.9.*,<3.0.0dev,>=1.34.0->google-ai-generativelanguage==0.2.0->google-generativeai) (0.3.0)\n",
            "Requirement already satisfied: six>=1.9.0 in /usr/local/lib/python3.10/dist-packages (from google-auth<3.0dev,>=2.14.1->google-api-core[grpc]!=2.0.*,!=2.1.*,!=2.10.*,!=2.2.*,!=2.3.*,!=2.4.*,!=2.5.*,!=2.6.*,!=2.7.*,!=2.8.*,!=2.9.*,<3.0.0dev,>=1.34.0->google-ai-generativelanguage==0.2.0->google-generativeai) (1.16.0)\n",
            "Requirement already satisfied: rsa<5,>=3.1.4 in /usr/local/lib/python3.10/dist-packages (from google-auth<3.0dev,>=2.14.1->google-api-core[grpc]!=2.0.*,!=2.1.*,!=2.10.*,!=2.2.*,!=2.3.*,!=2.4.*,!=2.5.*,!=2.6.*,!=2.7.*,!=2.8.*,!=2.9.*,<3.0.0dev,>=1.34.0->google-ai-generativelanguage==0.2.0->google-generativeai) (4.9)\n",
            "Requirement already satisfied: urllib3<1.27,>=1.21.1 in /usr/local/lib/python3.10/dist-packages (from requests<3.0.0dev,>=2.18.0->google-api-core[grpc]!=2.0.*,!=2.1.*,!=2.10.*,!=2.2.*,!=2.3.*,!=2.4.*,!=2.5.*,!=2.6.*,!=2.7.*,!=2.8.*,!=2.9.*,<3.0.0dev,>=1.34.0->google-ai-generativelanguage==0.2.0->google-generativeai) (1.26.15)\n",
            "Requirement already satisfied: certifi>=2017.4.17 in /usr/local/lib/python3.10/dist-packages (from requests<3.0.0dev,>=2.18.0->google-api-core[grpc]!=2.0.*,!=2.1.*,!=2.10.*,!=2.2.*,!=2.3.*,!=2.4.*,!=2.5.*,!=2.6.*,!=2.7.*,!=2.8.*,!=2.9.*,<3.0.0dev,>=1.34.0->google-ai-generativelanguage==0.2.0->google-generativeai) (2022.12.7)\n",
            "Requirement already satisfied: charset-normalizer~=2.0.0 in /usr/local/lib/python3.10/dist-packages (from requests<3.0.0dev,>=2.18.0->google-api-core[grpc]!=2.0.*,!=2.1.*,!=2.10.*,!=2.2.*,!=2.3.*,!=2.4.*,!=2.5.*,!=2.6.*,!=2.7.*,!=2.8.*,!=2.9.*,<3.0.0dev,>=1.34.0->google-ai-generativelanguage==0.2.0->google-generativeai) (2.0.12)\n",
            "Requirement already satisfied: idna<4,>=2.5 in /usr/local/lib/python3.10/dist-packages (from requests<3.0.0dev,>=2.18.0->google-api-core[grpc]!=2.0.*,!=2.1.*,!=2.10.*,!=2.2.*,!=2.3.*,!=2.4.*,!=2.5.*,!=2.6.*,!=2.7.*,!=2.8.*,!=2.9.*,<3.0.0dev,>=1.34.0->google-ai-generativelanguage==0.2.0->google-generativeai) (3.4)\n",
            "Requirement already satisfied: pyasn1<0.6.0,>=0.4.6 in /usr/local/lib/python3.10/dist-packages (from pyasn1-modules>=0.2.1->google-auth<3.0dev,>=2.14.1->google-api-core[grpc]!=2.0.*,!=2.1.*,!=2.10.*,!=2.2.*,!=2.3.*,!=2.4.*,!=2.5.*,!=2.6.*,!=2.7.*,!=2.8.*,!=2.9.*,<3.0.0dev,>=1.34.0->google-ai-generativelanguage==0.2.0->google-generativeai) (0.5.0)\n",
            "Installing collected packages: google-ai-generativelanguage, google-generativeai\n",
            "Successfully installed google-ai-generativelanguage-0.2.0 google-generativeai-0.1.0\n"
          ]
        },
        {
          "output_type": "display_data",
          "data": {
            "application/vnd.colab-display-data+json": {
              "pip_warning": {
                "packages": [
                  "google"
                ]
              }
            }
          },
          "metadata": {}
        }
      ],
      "source": [
        "# Install the client library and import necessary modules.\n",
        "!pip install google-generativeai\n",
        "import google.generativeai as palm"
      ]
    },
    {
      "cell_type": "code",
      "execution_count": 2,
      "metadata": {
        "id": "_SvYoR3WCeKr"
      },
      "outputs": [],
      "source": [
        "# Configure the client library by providing your API key.\n",
        "palm.configure(api_key=\"YOUR API KEY\")"
      ]
    },
    {
      "cell_type": "code",
      "source": [
        "fewshot = \"\"\"This is a task converting text into SQL statement. We will first given the dataset schema and then ask a question in text. You are asked to generate SQL statement.\n",
        "input: Here is an example: Convert text to SQL:\n",
        "[Schema (values)]: | farm | city : city_id , official_name , status , area_km_2 , population , census_ranking | farm : farm_id , year , total_horses , working_horses , total_cattle , oxen\n",
        ", bulls , cows , pigs , sheep_and_goats | farm_competition : competition_id , year , theme , host_city_id , hosts | competition_record : competition_id , farm_id , rank;\n",
        "[Column names (type)]: city : city_id (number)| city : official_name (text)| city : status (text )| city : area_km_2 (number)| city : population (number)| city : census_ranking (text)| farm\n",
        ": farm_id (number)| farm : year (number)| farm : total_horses (number)| farm : working_horses\n",
        " (number)| farm : total_cattle (number)| farm : oxen (number)| farm : bulls (number)| farm\n",
        ": cows (number)| farm : pigs (number)| farm : sheep_and_goats (number)| farm_competition :\n",
        "competition_id (number)| farm_competition : year (number)| farm_competition : theme (text)|\n",
        "farm_competition : host_city_id (number)| farm_competition : hosts (text)| competition_record\n",
        ": competition_id (number)| competition_record : farm_id (number)| competition_record : rank (\n",
        "number);\n",
        "[Primary Keys]: city : city_id | farm : farm_id | farm_competition : competition_id | competition_record : competition_id;\n",
        "[Foreign Keys]: farm_competition : host_city_id equals city : city_id | competition_record : farm_id equals farm : farm_id | competition_record : competition_id equals farm_competition : competition_id\n",
        "[Q]: What are the themes of farm competitions sorted by year in ascending order?;\n",
        "output: [SQL]: select theme from farm_competition order by year asc;\n",
        "input: Here is an example: Convert text to SQL:\n",
        "[Schema (values)]: | farm | city : city_id , official_name , status , area_km_2 , population , census_ranking | farm : farm_id , year , total_horses , working_horses , total_cattle , oxen\n",
        ", bulls , cows , pigs , sheep_and_goats | farm_competition : competition_id , year , theme , host_city_id , hosts | competition_record : competition_id , farm_id , rank;\n",
        "[Column names (type)]: city : city_id (number)| city : official_name (text)| city : status (text )| city : area_km_2 (number)| city : population (number)| city : census_ranking (text)| farm\n",
        ": farm_id (number)| farm : year (number)| farm : total_horses (number)| farm : working_horses\n",
        " (number)| farm : total_cattle (number)| farm : oxen (number)| farm : bulls (number)| farm\n",
        ": cows (number)| farm : pigs (number)| farm : sheep_and_goats (number)| farm_competition :\n",
        "competition_id (number)| farm_competition : year (number)| farm_competition : theme (text)|\n",
        "farm_competition : host_city_id (number)| farm_competition : hosts (text)| competition_record\n",
        ": competition_id (number)| competition_record : farm_id (number)| competition_record : rank (\n",
        "number);\n",
        "[Primary Keys]: city : city_id | farm : farm_id | farm_competition : competition_id | competition_record : competition_id; [Foreign Keys]: farm_competition : host_city_id equals city : city_id | competition_record : farm_id equals farm : farm_id | competition_record :\n",
        "competition_id equals farm_competition : competition_id\n",
        "[Q]: What are the maximum and minimum number of cows across all farms.;\n",
        "output: [SQL]: select max(cows), min(cows) from farm;\n",
        "input: Here is an example: Convert text to SQL:\n",
        "[Schema (values)]: | department_management | department : department_id , name , creation , ranking , budget_in_billions , num_employees | head : head_id , name , born_state , age | management : department_id , head_id , temporary_acting ( Yes );\n",
        "[Column names (type)]: department : department_id (number)| department : name (text)| department : creation (text)| department : ranking (number)| department : budget_in_billions (number)\n",
        "| department : num_employees (number)| head : head_id (number)| head : name (text)| head :\n",
        "born_state (text)| head : age (number)| management : department_id (number)| management :\n",
        "head_id (number)| management : temporary_acting (text);\n",
        "[Primary Keys]: department : department_id | head : head_id | management : department_id; [Foreign Keys]: management : head_id equals head : head_id | management : department_id equals\n",
        "department : department_id\n",
        "[Q]: Show the name and number of employees for the departments managed by heads whose temporary acting value is ’Yes’?;\n",
        "output: [SQL]: select t1.name, t1.num_employees from department as t1 join management as t2 on t1. department_id = t2.department_id where t2.temporary_acting = ’Yes’;\n",
        "input: Here is an example: Convert text to SQL:\n",
        "[Schema (values)]: | farm | city : city_id , official_name , status , area_km_2 , population , census_ranking | farm : farm_id , year , total_horses , working_horses , total_cattle , oxen\n",
        ", bulls , cows , pigs , sheep_and_goats | farm_competition : competition_id , year , theme , host_city_id , hosts | competition_record : competition_id , farm_id , rank;\n",
        "[Column names (type)]: city : city_id (number)| city : official_name (text)| city : status (text )| city : area_km_2 (number)| city : population (number)| city : census_ranking (text)| farm\n",
        ": farm_id (number)| farm : year (number)| farm : total_horses (number)| farm : working_horses\n",
        " (number)| farm : total_cattle (number)| farm : oxen (number)| farm : bulls (number)| farm\n",
        ": cows (number)| farm : pigs (number)| farm : sheep_and_goats (number)| farm_competition :\n",
        "competition_id (number)| farm_competition : year (number)| farm_competition : theme (text)|\n",
        "farm_competition : host_city_id (number)| farm_competition : hosts (text)| competition_record\n",
        ": competition_id (number)| competition_record : farm_id (number)| competition_record : rank (\n",
        "number);\n",
        "[Primary Keys]: city : city_id | farm : farm_id | farm_competition : competition_id | competition_record : competition_id;\n",
        "[Foreign Keys]: farm_competition : host_city_id equals city : city_id | competition_record : farm_id equals farm : farm_id | competition_record : competition_id equals farm_competition : competition_id\n",
        "[Q]: Show the status of the city that has hosted the greatest number of competitions.;\n",
        "output: [SQL]: select t1.status from city as t1 join farm_competition as t2 on t1.city_id = t2. host_city_id group by t2.host_city_id order by count(*) desc limit 1;\"\"\""
      ],
      "metadata": {
        "id": "zV_wY6XFQfOw"
      },
      "execution_count": 3,
      "outputs": []
    },
    {
      "cell_type": "code",
      "source": [
        "defaults = {\n",
        "  'model': 'models/text-bison-001',\n",
        "  'temperature': 0.7,\n",
        "  'candidate_count': 1,\n",
        "  'top_k': 40,\n",
        "  'top_p': 0.95,\n",
        "  'max_output_tokens': 1024,\n",
        "  'stop_sequences': [],\n",
        "  'safety_settings': [{\"category\":\"HARM_CATEGORY_DEROGATORY\",\"threshold\":1},{\"category\":\"HARM_CATEGORY_TOXICITY\",\"threshold\":1},{\"category\":\"HARM_CATEGORY_VIOLENCE\",\"threshold\":2},{\"category\":\"HARM_CATEGORY_SEXUAL\",\"threshold\":2},{\"category\":\"HARM_CATEGORY_MEDICAL\",\"threshold\":2},{\"category\":\"HARM_CATEGORY_DANGEROUS\",\"threshold\":2}],\n",
        "}"
      ],
      "metadata": {
        "id": "Ns5k0jtFOzvV"
      },
      "execution_count": 4,
      "outputs": []
    },
    {
      "cell_type": "code",
      "source": [
        "given_prompt = \"\"\"\n",
        "input: Here is the test question to be answered: Convert text to SQL:\n",
        "[Schema (values)]: | concert_singer | stadium : stadium_id , location , name , capacity , highest , lowest , average | singer : singer_id , name , country , song_name , song_release_year\n",
        ", age , is_male | concert : concert_id , concert_name , theme , stadium_id , year |\n",
        "singer_in_concert : concert_id , singer_id;\n",
        "[Column names (type)]: stadium : stadium_id (number)| stadium : location (text)| stadium : name (text)| stadium : capacity (number)| stadium : highest (number)| stadium : lowest (number)|\n",
        "stadium : average (number)| singer : singer_id (number)| singer : name (text)| singer : country\n",
        " (text)| singer : song_name (text)| singer : song_release_year (text)| singer : age (number)\n",
        "| singer : is_male (others)| concert : concert_id (number)| concert : concert_name (text)|\n",
        "concert : theme (text)| concert : stadium_id (text)| concert : year (text)| singer_in_concert :\n",
        " concert_id (number)| singer_in_concert : singer_id (text);\n",
        "[Primary Keys]: stadium : stadium_id | singer : singer_id | concert : concert_id | singer_in_concert : concert_id;\n",
        "[Foreign Keys]: concert : stadium_id equals stadium : stadium_id | singer_in_concert : singer_id equals singer : singer_id | singer_in_concert : concert_id equals concert : concert_id\n",
        "[Q]: How many singers do we have?;\n",
        "output:\"\"\""
      ],
      "metadata": {
        "id": "yHwAVdQDQkDk"
      },
      "execution_count": 6,
      "outputs": []
    },
    {
      "cell_type": "code",
      "source": [
        "final_prompt = fewshot + given_prompt"
      ],
      "metadata": {
        "id": "RoECzqXoQoT6"
      },
      "execution_count": 7,
      "outputs": []
    },
    {
      "cell_type": "code",
      "execution_count": 8,
      "metadata": {
        "id": "LB2LxPmAB95V",
        "colab": {
          "base_uri": "https://localhost:8080/"
        },
        "outputId": "8e9b5aee-a7d1-4c6d-92b8-94ed5fbd0e27"
      },
      "outputs": [
        {
          "output_type": "stream",
          "name": "stdout",
          "text": [
            "[SQL]: select count(*) from singer;\n"
          ]
        }
      ],
      "source": [
        "# Call the model and print the response.\n",
        "response = palm.generate_text(\n",
        "  **defaults,\n",
        "  prompt= final_prompt\n",
        ")\n",
        "print(response.result)"
      ]
    }
  ],
  "metadata": {
    "colab": {
      "toc_visible": true,
      "provenance": []
    },
    "kernelspec": {
      "display_name": "Python 3",
      "name": "python3"
    }
  },
  "nbformat": 4,
  "nbformat_minor": 0
}