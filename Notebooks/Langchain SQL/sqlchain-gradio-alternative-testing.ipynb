{
 "cells": [
  {
   "cell_type": "code",
   "execution_count": 1,
   "metadata": {},
   "outputs": [
    {
     "data": {
      "text/plain": [
       "True"
      ]
     },
     "execution_count": 1,
     "metadata": {},
     "output_type": "execute_result"
    }
   ],
   "source": [
    "from dotenv import load_dotenv\n",
    "\n",
    "load_dotenv()"
   ]
  },
  {
   "cell_type": "code",
   "execution_count": 2,
   "metadata": {},
   "outputs": [],
   "source": [
    "from langchain import OpenAI, SQLDatabase, SQLDatabaseChain"
   ]
  },
  {
   "cell_type": "code",
   "execution_count": 3,
   "metadata": {},
   "outputs": [],
   "source": [
    "import os\n",
    "\n",
    "openai_api_key = os.environ.get('OPENAI_API_KEY')"
   ]
  },
  {
   "cell_type": "code",
   "execution_count": 4,
   "metadata": {},
   "outputs": [],
   "source": [
    "db = SQLDatabase.from_uri(\"sqlite:///./movies.db\")"
   ]
  },
  {
   "cell_type": "code",
   "execution_count": 5,
   "metadata": {},
   "outputs": [],
   "source": [
    "from langchain.chains import SQLDatabaseSequentialChain"
   ]
  },
  {
   "cell_type": "code",
   "execution_count": 6,
   "metadata": {},
   "outputs": [],
   "source": [
    "def chain(top_k, model, is_sequential, query):\n",
    "    if model == 'ada':\n",
    "        llm = OpenAI(model='text-ada-001', temperature=0, verbose=True)\n",
    "    elif model == 'babbage':\n",
    "        llm = OpenAI(model='text-babbage-001', temperature=0, verbose=True)\n",
    "    elif model == 'curie':\n",
    "        llm = OpenAI(model='text-curie-001', temperature=0, verbose=True)\n",
    "    elif model == 'davinci':\n",
    "        llm = OpenAI(model='text-davinci-003', temperature=0, verbose=True)\n",
    "    if is_sequential:\n",
    "        chain = SQLDatabaseSequentialChain.from_llm(llm, db, verbose=True, use_query_checker=True, top_k=top_k, return_intermediate_steps=True)\n",
    "    else:\n",
    "        chain = SQLDatabaseChain.from_llm(llm, db, verbose=True, use_query_checker=True, top_k=top_k, return_intermediate_steps=True)\n",
    "    result = chain(query)\n",
    "    return result[\"result\"], result[\"intermediate_steps\"][1]"
   ]
  },
  {
   "cell_type": "code",
   "execution_count": 7,
   "metadata": {},
   "outputs": [],
   "source": [
    "import gradio as gr"
   ]
  },
  {
   "cell_type": "code",
   "execution_count": 8,
   "metadata": {},
   "outputs": [
    {
     "name": "stderr",
     "output_type": "stream",
     "text": [
      "/home/orientusprime/miniconda3/envs/textgen/lib/python3.10/site-packages/gradio/deprecation.py:43: UserWarning: You have unused kwarg parameters in Slider, please remove them: {'info': 'Choose between 2 and 20'}\n",
      "  warnings.warn(\n",
      "/home/orientusprime/miniconda3/envs/textgen/lib/python3.10/site-packages/gradio/deprecation.py:43: UserWarning: You have unused kwarg parameters in Radio, please remove them: {'info': 'Which model?'}\n",
      "  warnings.warn(\n",
      "/home/orientusprime/miniconda3/envs/textgen/lib/python3.10/site-packages/gradio/deprecation.py:43: UserWarning: You have unused kwarg parameters in Checkbox, please remove them: {'info': 'Check if table amount is high'}\n",
      "  warnings.warn(\n"
     ]
    }
   ],
   "source": [
    "demo = gr.Interface(\n",
    "    fn=chain,\n",
    "    inputs=[\n",
    "        gr.Slider(2, 20, value=4, step=1, label=\"Max Output\", info=\"Choose between 2 and 20\"),\n",
    "        gr.Radio([\"ada\", \"babbage\", \"curie\", \"davinci\"], label=\"Model\", info=\"Which model?\"),\n",
    "        gr.Checkbox(label=\"Select only relevant tables\", info=\"Check if table amount is high\"),\n",
    "        gr.components.Textbox(lines=5, label=\"Natural Language Query\"),\n",
    "    ],\n",
    "    outputs=[\n",
    "        gr.components.Textbox(lines=5, label=\"Answer\"),\n",
    "        gr.components.Textbox(lines=5, label=\"SQL Query\"),\n",
    "    ]\n",
    ")"
   ]
  },
  {
   "cell_type": "code",
   "execution_count": 9,
   "metadata": {},
   "outputs": [
    {
     "name": "stdout",
     "output_type": "stream",
     "text": [
      "Running on local URL:  http://127.0.0.1:7860\n",
      "\n",
      "To create a public link, set `share=True` in `launch()`.\n"
     ]
    },
    {
     "data": {
      "text/html": [
       "<div><iframe src=\"http://127.0.0.1:7860/\" width=\"100%\" height=\"500\" allow=\"autoplay; camera; microphone; clipboard-read; clipboard-write;\" frameborder=\"0\" allowfullscreen></iframe></div>"
      ],
      "text/plain": [
       "<IPython.core.display.HTML object>"
      ]
     },
     "metadata": {},
     "output_type": "display_data"
    },
    {
     "name": "stdout",
     "output_type": "stream",
     "text": [
      "\n",
      "\n",
      "\u001b[1m> Entering new SQLDatabaseChain chain...\u001b[0m\n",
      "determine the average rating of all movies released in 2012\n",
      "SQLQuery:\u001b[32;1m\u001b[1;3mSELECT AVG(rating) FROM ratings r INNER JOIN movies m ON r.movie_id = m.id WHERE m.year = 2012;\u001b[0m\n",
      "SQLResult: \u001b[33;1m\u001b[1;3m[(6.275459249676552,)]\u001b[0m\n",
      "Answer:\u001b[32;1m\u001b[1;3mThe average rating of all movies released in 2012 is 6.275459249676552.\u001b[0m\n",
      "\u001b[1m> Finished chain.\u001b[0m\n",
      "\n",
      "\n",
      "\u001b[1m> Entering new SQLDatabaseChain chain...\u001b[0m\n",
      "determine the average rating of all movies released in 2012\n",
      "SQLQuery:\u001b[32;1m\u001b[1;3mSELECT AVG(rating)\n",
      "\n",
      "SELECT rating\n",
      "\n",
      "FROM movie\n",
      "WHERE rating NOT IN\n",
      "SELECT rating\n",
      "\n",
      "FROM movie\n",
      "WHERE rating NOT IN\n",
      "SELECT rating\n",
      "\n",
      "FROM movie\n",
      "WHERE rating BETWEEN 0.5 AND 5.0\u001b[0m"
     ]
    },
    {
     "name": "stderr",
     "output_type": "stream",
     "text": [
      "Traceback (most recent call last):\n",
      "  File \"/home/orientusprime/miniconda3/envs/textgen/lib/python3.10/site-packages/sqlalchemy/engine/base.py\", line 1963, in _exec_single_context\n",
      "    self.dialect.do_execute(\n",
      "  File \"/home/orientusprime/miniconda3/envs/textgen/lib/python3.10/site-packages/sqlalchemy/engine/default.py\", line 920, in do_execute\n",
      "    cursor.execute(statement, parameters)\n",
      "sqlite3.OperationalError: near \"SELECT\": syntax error\n",
      "\n",
      "The above exception was the direct cause of the following exception:\n",
      "\n",
      "Traceback (most recent call last):\n",
      "  File \"/home/orientusprime/miniconda3/envs/textgen/lib/python3.10/site-packages/gradio/routes.py\", line 374, in run_predict\n",
      "    output = await app.get_blocks().process_api(\n",
      "  File \"/home/orientusprime/miniconda3/envs/textgen/lib/python3.10/site-packages/gradio/blocks.py\", line 1017, in process_api\n",
      "    result = await self.call_function(\n",
      "  File \"/home/orientusprime/miniconda3/envs/textgen/lib/python3.10/site-packages/gradio/blocks.py\", line 835, in call_function\n",
      "    prediction = await anyio.to_thread.run_sync(\n",
      "  File \"/home/orientusprime/miniconda3/envs/textgen/lib/python3.10/site-packages/anyio/to_thread.py\", line 31, in run_sync\n",
      "    return await get_asynclib().run_sync_in_worker_thread(\n",
      "  File \"/home/orientusprime/miniconda3/envs/textgen/lib/python3.10/site-packages/anyio/_backends/_asyncio.py\", line 937, in run_sync_in_worker_thread\n",
      "    return await future\n",
      "  File \"/home/orientusprime/miniconda3/envs/textgen/lib/python3.10/site-packages/anyio/_backends/_asyncio.py\", line 867, in run\n",
      "    result = context.run(func, *args)\n",
      "  File \"/tmp/ipykernel_1633/976621714.py\", line 14, in chain\n",
      "    result = chain(query)\n",
      "  File \"/home/orientusprime/miniconda3/envs/textgen/lib/python3.10/site-packages/langchain/chains/base.py\", line 140, in __call__\n",
      "    raise e\n",
      "  File \"/home/orientusprime/miniconda3/envs/textgen/lib/python3.10/site-packages/langchain/chains/base.py\", line 134, in __call__\n",
      "    self._call(inputs, run_manager=run_manager)\n",
      "  File \"/home/orientusprime/miniconda3/envs/textgen/lib/python3.10/site-packages/langchain/chains/sql_database/base.py\", line 181, in _call\n",
      "    raise exc\n",
      "  File \"/home/orientusprime/miniconda3/envs/textgen/lib/python3.10/site-packages/langchain/chains/sql_database/base.py\", line 151, in _call\n",
      "    result = self.database.run(checked_sql_command)\n",
      "  File \"/home/orientusprime/miniconda3/envs/textgen/lib/python3.10/site-packages/langchain/sql_database.py\", line 336, in run\n",
      "    cursor = connection.execute(text(command))\n",
      "  File \"/home/orientusprime/miniconda3/envs/textgen/lib/python3.10/site-packages/sqlalchemy/engine/base.py\", line 1413, in execute\n",
      "    return meth(\n",
      "  File \"/home/orientusprime/miniconda3/envs/textgen/lib/python3.10/site-packages/sqlalchemy/sql/elements.py\", line 483, in _execute_on_connection\n",
      "    return connection._execute_clauseelement(\n",
      "  File \"/home/orientusprime/miniconda3/envs/textgen/lib/python3.10/site-packages/sqlalchemy/engine/base.py\", line 1637, in _execute_clauseelement\n",
      "    ret = self._execute_context(\n",
      "  File \"/home/orientusprime/miniconda3/envs/textgen/lib/python3.10/site-packages/sqlalchemy/engine/base.py\", line 1841, in _execute_context\n",
      "    return self._exec_single_context(\n",
      "  File \"/home/orientusprime/miniconda3/envs/textgen/lib/python3.10/site-packages/sqlalchemy/engine/base.py\", line 1982, in _exec_single_context\n",
      "    self._handle_dbapi_exception(\n",
      "  File \"/home/orientusprime/miniconda3/envs/textgen/lib/python3.10/site-packages/sqlalchemy/engine/base.py\", line 2339, in _handle_dbapi_exception\n",
      "    raise sqlalchemy_exception.with_traceback(exc_info[2]) from e\n",
      "  File \"/home/orientusprime/miniconda3/envs/textgen/lib/python3.10/site-packages/sqlalchemy/engine/base.py\", line 1963, in _exec_single_context\n",
      "    self.dialect.do_execute(\n",
      "  File \"/home/orientusprime/miniconda3/envs/textgen/lib/python3.10/site-packages/sqlalchemy/engine/default.py\", line 920, in do_execute\n",
      "    cursor.execute(statement, parameters)\n",
      "sqlalchemy.exc.OperationalError: (sqlite3.OperationalError) near \"SELECT\": syntax error\n",
      "[SQL: SELECT AVG(rating)\n",
      "\n",
      "SELECT rating\n",
      "\n",
      "FROM movie\n",
      "WHERE rating NOT IN\n",
      "SELECT rating\n",
      "\n",
      "FROM movie\n",
      "WHERE rating NOT IN\n",
      "SELECT rating\n",
      "\n",
      "FROM movie\n",
      "WHERE rating BETWEEN 0.5 AND 5.0]\n",
      "(Background on this error at: https://sqlalche.me/e/20/e3q8)\n"
     ]
    },
    {
     "name": "stdout",
     "output_type": "stream",
     "text": [
      "\n",
      "\n",
      "\u001b[1m> Entering new SQLDatabaseChain chain...\u001b[0m\n",
      "determine the average rating of all movies released in 2012\n",
      "SQLQuery:\u001b[32;1m\u001b[1;3mSELECT AVG(rating)\n",
      "\n",
      "SELECT rating\n",
      "\n",
      "FROM movie\n",
      "WHERE rating NOT IN\n",
      "SELECT rating\n",
      "\n",
      "FROM movie\n",
      "WHERE rating NOT IN\n",
      "SELECT rating\n",
      "\n",
      "FROM movie\n",
      "WHERE rating BETWEEN 0.5 AND 5.0\u001b[0m"
     ]
    },
    {
     "name": "stderr",
     "output_type": "stream",
     "text": [
      "Traceback (most recent call last):\n",
      "  File \"/home/orientusprime/miniconda3/envs/textgen/lib/python3.10/site-packages/sqlalchemy/engine/base.py\", line 1963, in _exec_single_context\n",
      "    self.dialect.do_execute(\n",
      "  File \"/home/orientusprime/miniconda3/envs/textgen/lib/python3.10/site-packages/sqlalchemy/engine/default.py\", line 920, in do_execute\n",
      "    cursor.execute(statement, parameters)\n",
      "sqlite3.OperationalError: near \"SELECT\": syntax error\n",
      "\n",
      "The above exception was the direct cause of the following exception:\n",
      "\n",
      "Traceback (most recent call last):\n",
      "  File \"/home/orientusprime/miniconda3/envs/textgen/lib/python3.10/site-packages/gradio/routes.py\", line 374, in run_predict\n",
      "    output = await app.get_blocks().process_api(\n",
      "  File \"/home/orientusprime/miniconda3/envs/textgen/lib/python3.10/site-packages/gradio/blocks.py\", line 1017, in process_api\n",
      "    result = await self.call_function(\n",
      "  File \"/home/orientusprime/miniconda3/envs/textgen/lib/python3.10/site-packages/gradio/blocks.py\", line 835, in call_function\n",
      "    prediction = await anyio.to_thread.run_sync(\n",
      "  File \"/home/orientusprime/miniconda3/envs/textgen/lib/python3.10/site-packages/anyio/to_thread.py\", line 31, in run_sync\n",
      "    return await get_asynclib().run_sync_in_worker_thread(\n",
      "  File \"/home/orientusprime/miniconda3/envs/textgen/lib/python3.10/site-packages/anyio/_backends/_asyncio.py\", line 937, in run_sync_in_worker_thread\n",
      "    return await future\n",
      "  File \"/home/orientusprime/miniconda3/envs/textgen/lib/python3.10/site-packages/anyio/_backends/_asyncio.py\", line 867, in run\n",
      "    result = context.run(func, *args)\n",
      "  File \"/tmp/ipykernel_1633/976621714.py\", line 14, in chain\n",
      "    result = chain(query)\n",
      "  File \"/home/orientusprime/miniconda3/envs/textgen/lib/python3.10/site-packages/langchain/chains/base.py\", line 140, in __call__\n",
      "    raise e\n",
      "  File \"/home/orientusprime/miniconda3/envs/textgen/lib/python3.10/site-packages/langchain/chains/base.py\", line 134, in __call__\n",
      "    self._call(inputs, run_manager=run_manager)\n",
      "  File \"/home/orientusprime/miniconda3/envs/textgen/lib/python3.10/site-packages/langchain/chains/sql_database/base.py\", line 181, in _call\n",
      "    raise exc\n",
      "  File \"/home/orientusprime/miniconda3/envs/textgen/lib/python3.10/site-packages/langchain/chains/sql_database/base.py\", line 151, in _call\n",
      "    result = self.database.run(checked_sql_command)\n",
      "  File \"/home/orientusprime/miniconda3/envs/textgen/lib/python3.10/site-packages/langchain/sql_database.py\", line 336, in run\n",
      "    cursor = connection.execute(text(command))\n",
      "  File \"/home/orientusprime/miniconda3/envs/textgen/lib/python3.10/site-packages/sqlalchemy/engine/base.py\", line 1413, in execute\n",
      "    return meth(\n",
      "  File \"/home/orientusprime/miniconda3/envs/textgen/lib/python3.10/site-packages/sqlalchemy/sql/elements.py\", line 483, in _execute_on_connection\n",
      "    return connection._execute_clauseelement(\n",
      "  File \"/home/orientusprime/miniconda3/envs/textgen/lib/python3.10/site-packages/sqlalchemy/engine/base.py\", line 1637, in _execute_clauseelement\n",
      "    ret = self._execute_context(\n",
      "  File \"/home/orientusprime/miniconda3/envs/textgen/lib/python3.10/site-packages/sqlalchemy/engine/base.py\", line 1841, in _execute_context\n",
      "    return self._exec_single_context(\n",
      "  File \"/home/orientusprime/miniconda3/envs/textgen/lib/python3.10/site-packages/sqlalchemy/engine/base.py\", line 1982, in _exec_single_context\n",
      "    self._handle_dbapi_exception(\n",
      "  File \"/home/orientusprime/miniconda3/envs/textgen/lib/python3.10/site-packages/sqlalchemy/engine/base.py\", line 2339, in _handle_dbapi_exception\n",
      "    raise sqlalchemy_exception.with_traceback(exc_info[2]) from e\n",
      "  File \"/home/orientusprime/miniconda3/envs/textgen/lib/python3.10/site-packages/sqlalchemy/engine/base.py\", line 1963, in _exec_single_context\n",
      "    self.dialect.do_execute(\n",
      "  File \"/home/orientusprime/miniconda3/envs/textgen/lib/python3.10/site-packages/sqlalchemy/engine/default.py\", line 920, in do_execute\n",
      "    cursor.execute(statement, parameters)\n",
      "sqlalchemy.exc.OperationalError: (sqlite3.OperationalError) near \"SELECT\": syntax error\n",
      "[SQL: SELECT AVG(rating)\n",
      "\n",
      "SELECT rating\n",
      "\n",
      "FROM movie\n",
      "WHERE rating NOT IN\n",
      "SELECT rating\n",
      "\n",
      "FROM movie\n",
      "WHERE rating NOT IN\n",
      "SELECT rating\n",
      "\n",
      "FROM movie\n",
      "WHERE rating BETWEEN 0.5 AND 5.0]\n",
      "(Background on this error at: https://sqlalche.me/e/20/e3q8)\n"
     ]
    },
    {
     "name": "stdout",
     "output_type": "stream",
     "text": [
      "\n",
      "\n",
      "\u001b[1m> Entering new SQLDatabaseChain chain...\u001b[0m\n",
      "determine the average rating of all movies released in 2012\n",
      "SQLQuery:\u001b[32;1m\u001b[1;3mSELECT AVG(rating)FROM ratings\n",
      "\n",
      "As you can see, this query returns the average rating for all ratings.\u001b[0m"
     ]
    },
    {
     "name": "stderr",
     "output_type": "stream",
     "text": [
      "Traceback (most recent call last):\n",
      "  File \"/home/orientusprime/miniconda3/envs/textgen/lib/python3.10/site-packages/sqlalchemy/engine/base.py\", line 1963, in _exec_single_context\n",
      "    self.dialect.do_execute(\n",
      "  File \"/home/orientusprime/miniconda3/envs/textgen/lib/python3.10/site-packages/sqlalchemy/engine/default.py\", line 920, in do_execute\n",
      "    cursor.execute(statement, parameters)\n",
      "sqlite3.OperationalError: near \"can\": syntax error\n",
      "\n",
      "The above exception was the direct cause of the following exception:\n",
      "\n",
      "Traceback (most recent call last):\n",
      "  File \"/home/orientusprime/miniconda3/envs/textgen/lib/python3.10/site-packages/gradio/routes.py\", line 374, in run_predict\n",
      "    output = await app.get_blocks().process_api(\n",
      "  File \"/home/orientusprime/miniconda3/envs/textgen/lib/python3.10/site-packages/gradio/blocks.py\", line 1017, in process_api\n",
      "    result = await self.call_function(\n",
      "  File \"/home/orientusprime/miniconda3/envs/textgen/lib/python3.10/site-packages/gradio/blocks.py\", line 835, in call_function\n",
      "    prediction = await anyio.to_thread.run_sync(\n",
      "  File \"/home/orientusprime/miniconda3/envs/textgen/lib/python3.10/site-packages/anyio/to_thread.py\", line 31, in run_sync\n",
      "    return await get_asynclib().run_sync_in_worker_thread(\n",
      "  File \"/home/orientusprime/miniconda3/envs/textgen/lib/python3.10/site-packages/anyio/_backends/_asyncio.py\", line 937, in run_sync_in_worker_thread\n",
      "    return await future\n",
      "  File \"/home/orientusprime/miniconda3/envs/textgen/lib/python3.10/site-packages/anyio/_backends/_asyncio.py\", line 867, in run\n",
      "    result = context.run(func, *args)\n",
      "  File \"/tmp/ipykernel_1633/976621714.py\", line 14, in chain\n",
      "    result = chain(query)\n",
      "  File \"/home/orientusprime/miniconda3/envs/textgen/lib/python3.10/site-packages/langchain/chains/base.py\", line 140, in __call__\n",
      "    raise e\n",
      "  File \"/home/orientusprime/miniconda3/envs/textgen/lib/python3.10/site-packages/langchain/chains/base.py\", line 134, in __call__\n",
      "    self._call(inputs, run_manager=run_manager)\n",
      "  File \"/home/orientusprime/miniconda3/envs/textgen/lib/python3.10/site-packages/langchain/chains/sql_database/base.py\", line 181, in _call\n",
      "    raise exc\n",
      "  File \"/home/orientusprime/miniconda3/envs/textgen/lib/python3.10/site-packages/langchain/chains/sql_database/base.py\", line 151, in _call\n",
      "    result = self.database.run(checked_sql_command)\n",
      "  File \"/home/orientusprime/miniconda3/envs/textgen/lib/python3.10/site-packages/langchain/sql_database.py\", line 336, in run\n",
      "    cursor = connection.execute(text(command))\n",
      "  File \"/home/orientusprime/miniconda3/envs/textgen/lib/python3.10/site-packages/sqlalchemy/engine/base.py\", line 1413, in execute\n",
      "    return meth(\n",
      "  File \"/home/orientusprime/miniconda3/envs/textgen/lib/python3.10/site-packages/sqlalchemy/sql/elements.py\", line 483, in _execute_on_connection\n",
      "    return connection._execute_clauseelement(\n",
      "  File \"/home/orientusprime/miniconda3/envs/textgen/lib/python3.10/site-packages/sqlalchemy/engine/base.py\", line 1637, in _execute_clauseelement\n",
      "    ret = self._execute_context(\n",
      "  File \"/home/orientusprime/miniconda3/envs/textgen/lib/python3.10/site-packages/sqlalchemy/engine/base.py\", line 1841, in _execute_context\n",
      "    return self._exec_single_context(\n",
      "  File \"/home/orientusprime/miniconda3/envs/textgen/lib/python3.10/site-packages/sqlalchemy/engine/base.py\", line 1982, in _exec_single_context\n",
      "    self._handle_dbapi_exception(\n",
      "  File \"/home/orientusprime/miniconda3/envs/textgen/lib/python3.10/site-packages/sqlalchemy/engine/base.py\", line 2339, in _handle_dbapi_exception\n",
      "    raise sqlalchemy_exception.with_traceback(exc_info[2]) from e\n",
      "  File \"/home/orientusprime/miniconda3/envs/textgen/lib/python3.10/site-packages/sqlalchemy/engine/base.py\", line 1963, in _exec_single_context\n",
      "    self.dialect.do_execute(\n",
      "  File \"/home/orientusprime/miniconda3/envs/textgen/lib/python3.10/site-packages/sqlalchemy/engine/default.py\", line 920, in do_execute\n",
      "    cursor.execute(statement, parameters)\n",
      "sqlalchemy.exc.OperationalError: (sqlite3.OperationalError) near \"can\": syntax error\n",
      "[SQL: SELECT AVG(rating)FROM ratings\n",
      "\n",
      "As you can see, this query returns the average rating for all ratings.]\n",
      "(Background on this error at: https://sqlalche.me/e/20/e3q8)\n"
     ]
    },
    {
     "name": "stdout",
     "output_type": "stream",
     "text": [
      "\n",
      "\n",
      "\u001b[1m> Entering new SQLDatabaseChain chain...\u001b[0m\n",
      "determine the average rating of all movies released in 2012\n",
      "SQLQuery:\u001b[32;1m\u001b[1;3mSELECT AVG(rating) FROM ratings r INNER JOIN movies m ON r.movie_id = m.id WHERE m.year = 2012;\u001b[0m\n",
      "SQLResult: \u001b[33;1m\u001b[1;3m[(6.275459249676552,)]\u001b[0m\n",
      "Answer:\u001b[32;1m\u001b[1;3mThe average rating of all movies released in 2012 is 6.275459249676552.\u001b[0m\n",
      "\u001b[1m> Finished chain.\u001b[0m\n",
      "Keyboard interruption in main thread... closing server.\n"
     ]
    },
    {
     "data": {
      "text/plain": []
     },
     "execution_count": 9,
     "metadata": {},
     "output_type": "execute_result"
    }
   ],
   "source": [
    "demo.launch(share=False, debug=True)"
   ]
  }
 ],
 "metadata": {
  "kernelspec": {
   "display_name": "textgen",
   "language": "python",
   "name": "python3"
  },
  "language_info": {
   "codemirror_mode": {
    "name": "ipython",
    "version": 3
   },
   "file_extension": ".py",
   "mimetype": "text/x-python",
   "name": "python",
   "nbconvert_exporter": "python",
   "pygments_lexer": "ipython3",
   "version": "3.10.9"
  },
  "orig_nbformat": 4
 },
 "nbformat": 4,
 "nbformat_minor": 2
}
