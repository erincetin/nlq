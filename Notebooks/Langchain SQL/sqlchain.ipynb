{
 "cells": [
  {
   "cell_type": "code",
   "execution_count": 1,
   "metadata": {},
   "outputs": [
    {
     "data": {
      "text/plain": [
       "True"
      ]
     },
     "execution_count": 1,
     "metadata": {},
     "output_type": "execute_result"
    }
   ],
   "source": [
    "from dotenv import load_dotenv\n",
    "\n",
    "load_dotenv()"
   ]
  },
  {
   "cell_type": "code",
   "execution_count": 56,
   "metadata": {},
   "outputs": [],
   "source": [
    "from langchain import OpenAI, SQLDatabase, SQLDatabaseChain"
   ]
  },
  {
   "cell_type": "code",
   "execution_count": 3,
   "metadata": {},
   "outputs": [],
   "source": [
    "import os\n",
    "\n",
    "openai_api_key = os.environ.get('OPENAI_API_KEY')"
   ]
  },
  {
   "cell_type": "code",
   "execution_count": 4,
   "metadata": {},
   "outputs": [],
   "source": [
    "db = SQLDatabase.from_uri(\"sqlite:///./movies.db\")"
   ]
  },
  {
   "cell_type": "code",
   "execution_count": 111,
   "metadata": {},
   "outputs": [],
   "source": [
    "llm = OpenAI(temperature=0, verbose=True)"
   ]
  },
  {
   "cell_type": "code",
   "execution_count": 7,
   "metadata": {},
   "outputs": [],
   "source": [
    "db_chain = SQLDatabaseChain.from_llm(llm, db, verbose=True, use_query_checker=True)"
   ]
  },
  {
   "cell_type": "code",
   "execution_count": 101,
   "metadata": {},
   "outputs": [
    {
     "name": "stdout",
     "output_type": "stream",
     "text": [
      "\n",
      "\n",
      "\u001b[1m> Entering new SQLDatabaseChain chain...\u001b[0m\n",
      "List actors of Harry Potter\n",
      "SQLQuery:\u001b[32;1m\u001b[1;3mSELECT people.name \n",
      "FROM people \n",
      "INNER JOIN stars ON people.id = stars.person_id \n",
      "INNER JOIN movies ON stars.movie_id = movies.id \n",
      "WHERE movies.title = 'Harry Potter'\u001b[0m\n",
      "SQLResult: \u001b[33;1m\u001b[1;3m[]\u001b[0m\n",
      "Answer:\u001b[32;1m\u001b[1;3mNo actors found for Harry Potter.\u001b[0m\n",
      "\u001b[1m> Finished chain.\u001b[0m\n"
     ]
    },
    {
     "data": {
      "text/plain": [
       "'No actors found for Harry Potter.'"
      ]
     },
     "execution_count": 101,
     "metadata": {},
     "output_type": "execute_result"
    }
   ],
   "source": [
    "db_chain.run(\"List actors of Harry Potter\")"
   ]
  },
  {
   "cell_type": "code",
   "execution_count": 17,
   "metadata": {},
   "outputs": [],
   "source": [
    "db_chain2 = SQLDatabaseChain.from_llm(llm, db, verbose=True, use_query_checker=True, return_intermediate_steps=True)"
   ]
  },
  {
   "cell_type": "code",
   "execution_count": 45,
   "metadata": {},
   "outputs": [
    {
     "name": "stdout",
     "output_type": "stream",
     "text": [
      "\n",
      "\n",
      "\u001b[1m> Entering new SQLDatabaseChain chain...\u001b[0m\n",
      "Answer hypothetical question about this database\n",
      "SQLQuery:\u001b[32;1m\u001b[1;3mSELECT * FROM movies LIMIT 5;\u001b[0m\n",
      "SQLResult: \u001b[33;1m\u001b[1;3m[(15724, 'Dama de noche', 1993), (23331, 'Pesn o geroyakh', 1983), (31458, 'El huésped del sevillano', 1970), (35423, 'Kate & Leopold', 2001), (36606, 'Another Time, Another Place', 1983)]\u001b[0m\n",
      "Answer:\u001b[32;1m\u001b[1;3mThe database contains information about 5 movies: Dama de noche (1993), Pesn o geroyakh (1983), El huésped del sevillano (1970), Kate & Leopold (2001), and Another Time, Another Place (1983).\u001b[0m\n",
      "\u001b[1m> Finished chain.\u001b[0m\n"
     ]
    }
   ],
   "source": [
    "result = db_chain2(\"Answer hypothetical question about this database\")"
   ]
  },
  {
   "cell_type": "code",
   "execution_count": 46,
   "metadata": {},
   "outputs": [
    {
     "data": {
      "text/plain": [
       "[{'input': \"Answer hypothetical question about this database\\nSQLQuery:SELECT * FROM movies LIMIT 5;\\nSQLResult: [(15724, 'Dama de noche', 1993), (23331, 'Pesn o geroyakh', 1983), (31458, 'El huésped del sevillano', 1970), (35423, 'Kate & Leopold', 2001), (36606, 'Another Time, Another Place', 1983)]\\nAnswer:\",\n",
       "  'top_k': '5',\n",
       "  'dialect': 'sqlite',\n",
       "  'table_info': '\\nCREATE TABLE movies (\\n\\tid INTEGER, \\n\\ttitle TEXT NOT NULL, \\n\\tyear NUMERIC, \\n\\tPRIMARY KEY (id)\\n)\\n\\n/*\\n3 rows from movies table:\\nid\\ttitle\\tyear\\n15724\\tDama de noche\\t1993.0000000000\\n23331\\tPesn o geroyakh\\t1983.0000000000\\n31458\\tEl huésped del sevillano\\t1970.0000000000\\n*/\\n\\n\\nCREATE TABLE people (\\n\\tid INTEGER, \\n\\tname TEXT NOT NULL, \\n\\tbirth NUMERIC, \\n\\tPRIMARY KEY (id)\\n)\\n\\n/*\\n3 rows from people table:\\nid\\tname\\tbirth\\n1\\tFred Astaire\\t1899.0000000000\\n2\\tLauren Bacall\\t1924.0000000000\\n3\\tBrigitte Bardot\\t1934.0000000000\\n*/\\n\\n\\nCREATE TABLE directors (\\n\\tmovie_id INTEGER NOT NULL, \\n\\tperson_id INTEGER NOT NULL, \\n\\tFOREIGN KEY(movie_id) REFERENCES movies (id), \\n\\tFOREIGN KEY(person_id) REFERENCES people (id)\\n)\\n\\n/*\\n3 rows from directors table:\\nmovie_id\\tperson_id\\n15724\\t529960\\n23331\\t412235\\n31458\\t649563\\n*/\\n\\n\\nCREATE TABLE ratings (\\n\\tmovie_id INTEGER NOT NULL, \\n\\trating REAL NOT NULL, \\n\\tvotes INTEGER NOT NULL, \\n\\tFOREIGN KEY(movie_id) REFERENCES movies (id)\\n)\\n\\n/*\\n3 rows from ratings table:\\nmovie_id\\trating\\tvotes\\n15724\\t6.2\\t20\\n23331\\t6.8\\t68\\n31458\\t7.0\\t6\\n*/\\n\\n\\nCREATE TABLE stars (\\n\\tmovie_id INTEGER NOT NULL, \\n\\tperson_id INTEGER NOT NULL, \\n\\tFOREIGN KEY(movie_id) REFERENCES movies (id), \\n\\tFOREIGN KEY(person_id) REFERENCES people (id)\\n)\\n\\n/*\\n3 rows from stars table:\\nmovie_id\\tperson_id\\n15724\\t844752\\n15724\\t869732\\n15724\\t194720\\n*/',\n",
       "  'stop': ['\\nSQLResult:']},\n",
       " 'SELECT * FROM movies LIMIT 5;',\n",
       " {'sql_cmd': 'SELECT * FROM movies LIMIT 5;'},\n",
       " \"[(15724, 'Dama de noche', 1993), (23331, 'Pesn o geroyakh', 1983), (31458, 'El huésped del sevillano', 1970), (35423, 'Kate & Leopold', 2001), (36606, 'Another Time, Another Place', 1983)]\",\n",
       " {'input': \"Answer hypothetical question about this database\\nSQLQuery:SELECT * FROM movies LIMIT 5;\\nSQLResult: [(15724, 'Dama de noche', 1993), (23331, 'Pesn o geroyakh', 1983), (31458, 'El huésped del sevillano', 1970), (35423, 'Kate & Leopold', 2001), (36606, 'Another Time, Another Place', 1983)]\\nAnswer:\",\n",
       "  'top_k': '5',\n",
       "  'dialect': 'sqlite',\n",
       "  'table_info': '\\nCREATE TABLE movies (\\n\\tid INTEGER, \\n\\ttitle TEXT NOT NULL, \\n\\tyear NUMERIC, \\n\\tPRIMARY KEY (id)\\n)\\n\\n/*\\n3 rows from movies table:\\nid\\ttitle\\tyear\\n15724\\tDama de noche\\t1993.0000000000\\n23331\\tPesn o geroyakh\\t1983.0000000000\\n31458\\tEl huésped del sevillano\\t1970.0000000000\\n*/\\n\\n\\nCREATE TABLE people (\\n\\tid INTEGER, \\n\\tname TEXT NOT NULL, \\n\\tbirth NUMERIC, \\n\\tPRIMARY KEY (id)\\n)\\n\\n/*\\n3 rows from people table:\\nid\\tname\\tbirth\\n1\\tFred Astaire\\t1899.0000000000\\n2\\tLauren Bacall\\t1924.0000000000\\n3\\tBrigitte Bardot\\t1934.0000000000\\n*/\\n\\n\\nCREATE TABLE directors (\\n\\tmovie_id INTEGER NOT NULL, \\n\\tperson_id INTEGER NOT NULL, \\n\\tFOREIGN KEY(movie_id) REFERENCES movies (id), \\n\\tFOREIGN KEY(person_id) REFERENCES people (id)\\n)\\n\\n/*\\n3 rows from directors table:\\nmovie_id\\tperson_id\\n15724\\t529960\\n23331\\t412235\\n31458\\t649563\\n*/\\n\\n\\nCREATE TABLE ratings (\\n\\tmovie_id INTEGER NOT NULL, \\n\\trating REAL NOT NULL, \\n\\tvotes INTEGER NOT NULL, \\n\\tFOREIGN KEY(movie_id) REFERENCES movies (id)\\n)\\n\\n/*\\n3 rows from ratings table:\\nmovie_id\\trating\\tvotes\\n15724\\t6.2\\t20\\n23331\\t6.8\\t68\\n31458\\t7.0\\t6\\n*/\\n\\n\\nCREATE TABLE stars (\\n\\tmovie_id INTEGER NOT NULL, \\n\\tperson_id INTEGER NOT NULL, \\n\\tFOREIGN KEY(movie_id) REFERENCES movies (id), \\n\\tFOREIGN KEY(person_id) REFERENCES people (id)\\n)\\n\\n/*\\n3 rows from stars table:\\nmovie_id\\tperson_id\\n15724\\t844752\\n15724\\t869732\\n15724\\t194720\\n*/',\n",
       "  'stop': ['\\nSQLResult:']},\n",
       " 'The database contains information about 5 movies: Dama de noche (1993), Pesn o geroyakh (1983), El huésped del sevillano (1970), Kate & Leopold (2001), and Another Time, Another Place (1983).']"
      ]
     },
     "execution_count": 46,
     "metadata": {},
     "output_type": "execute_result"
    }
   ],
   "source": [
    "result[\"intermediate_steps\"]"
   ]
  },
  {
   "cell_type": "code",
   "execution_count": 29,
   "metadata": {},
   "outputs": [
    {
     "data": {
      "text/plain": [
       "'How many movies have 5 stars?'"
      ]
     },
     "execution_count": 29,
     "metadata": {},
     "output_type": "execute_result"
    }
   ],
   "source": [
    "result[\"query\"]"
   ]
  },
  {
   "cell_type": "code",
   "execution_count": 30,
   "metadata": {},
   "outputs": [
    {
     "data": {
      "text/plain": [
       "'At least 5 movies have 5 stars.'"
      ]
     },
     "execution_count": 30,
     "metadata": {},
     "output_type": "execute_result"
    }
   ],
   "source": [
    "result[\"result\"]"
   ]
  },
  {
   "cell_type": "code",
   "execution_count": 35,
   "metadata": {},
   "outputs": [],
   "source": [
    "isteps= result[\"intermediate_steps\"]"
   ]
  },
  {
   "cell_type": "code",
   "execution_count": 39,
   "metadata": {},
   "outputs": [
    {
     "data": {
      "text/plain": [
       "[{'input': 'How many movies have 5 stars?\\nSQLQuery:SELECT COUNT(*) FROM movies m INNER JOIN stars s ON m.id = s.movie_id GROUP BY m.id HAVING COUNT(*) = 5 LIMIT 5;\\nSQLResult: [(5,), (5,), (5,), (5,), (5,)]\\nAnswer:',\n",
       "  'top_k': '5',\n",
       "  'dialect': 'sqlite',\n",
       "  'table_info': '\\nCREATE TABLE movies (\\n\\tid INTEGER, \\n\\ttitle TEXT NOT NULL, \\n\\tyear NUMERIC, \\n\\tPRIMARY KEY (id)\\n)\\n\\n/*\\n3 rows from movies table:\\nid\\ttitle\\tyear\\n15724\\tDama de noche\\t1993.0000000000\\n23331\\tPesn o geroyakh\\t1983.0000000000\\n31458\\tEl huésped del sevillano\\t1970.0000000000\\n*/\\n\\n\\nCREATE TABLE people (\\n\\tid INTEGER, \\n\\tname TEXT NOT NULL, \\n\\tbirth NUMERIC, \\n\\tPRIMARY KEY (id)\\n)\\n\\n/*\\n3 rows from people table:\\nid\\tname\\tbirth\\n1\\tFred Astaire\\t1899.0000000000\\n2\\tLauren Bacall\\t1924.0000000000\\n3\\tBrigitte Bardot\\t1934.0000000000\\n*/\\n\\n\\nCREATE TABLE directors (\\n\\tmovie_id INTEGER NOT NULL, \\n\\tperson_id INTEGER NOT NULL, \\n\\tFOREIGN KEY(movie_id) REFERENCES movies (id), \\n\\tFOREIGN KEY(person_id) REFERENCES people (id)\\n)\\n\\n/*\\n3 rows from directors table:\\nmovie_id\\tperson_id\\n15724\\t529960\\n23331\\t412235\\n31458\\t649563\\n*/\\n\\n\\nCREATE TABLE ratings (\\n\\tmovie_id INTEGER NOT NULL, \\n\\trating REAL NOT NULL, \\n\\tvotes INTEGER NOT NULL, \\n\\tFOREIGN KEY(movie_id) REFERENCES movies (id)\\n)\\n\\n/*\\n3 rows from ratings table:\\nmovie_id\\trating\\tvotes\\n15724\\t6.2\\t20\\n23331\\t6.8\\t68\\n31458\\t7.0\\t6\\n*/\\n\\n\\nCREATE TABLE stars (\\n\\tmovie_id INTEGER NOT NULL, \\n\\tperson_id INTEGER NOT NULL, \\n\\tFOREIGN KEY(movie_id) REFERENCES movies (id), \\n\\tFOREIGN KEY(person_id) REFERENCES people (id)\\n)\\n\\n/*\\n3 rows from stars table:\\nmovie_id\\tperson_id\\n15724\\t844752\\n15724\\t869732\\n15724\\t194720\\n*/',\n",
       "  'stop': ['\\nSQLResult:']},\n",
       " 'SELECT COUNT(*) FROM movies m INNER JOIN stars s ON m.id = s.movie_id GROUP BY m.id HAVING COUNT(*) = 5 LIMIT 5;',\n",
       " {'sql_cmd': 'SELECT COUNT(*) FROM movies m INNER JOIN stars s ON m.id = s.movie_id GROUP BY m.id HAVING COUNT(*) = 5 LIMIT 5;'},\n",
       " '[(5,), (5,), (5,), (5,), (5,)]',\n",
       " {'input': 'How many movies have 5 stars?\\nSQLQuery:SELECT COUNT(*) FROM movies m INNER JOIN stars s ON m.id = s.movie_id GROUP BY m.id HAVING COUNT(*) = 5 LIMIT 5;\\nSQLResult: [(5,), (5,), (5,), (5,), (5,)]\\nAnswer:',\n",
       "  'top_k': '5',\n",
       "  'dialect': 'sqlite',\n",
       "  'table_info': '\\nCREATE TABLE movies (\\n\\tid INTEGER, \\n\\ttitle TEXT NOT NULL, \\n\\tyear NUMERIC, \\n\\tPRIMARY KEY (id)\\n)\\n\\n/*\\n3 rows from movies table:\\nid\\ttitle\\tyear\\n15724\\tDama de noche\\t1993.0000000000\\n23331\\tPesn o geroyakh\\t1983.0000000000\\n31458\\tEl huésped del sevillano\\t1970.0000000000\\n*/\\n\\n\\nCREATE TABLE people (\\n\\tid INTEGER, \\n\\tname TEXT NOT NULL, \\n\\tbirth NUMERIC, \\n\\tPRIMARY KEY (id)\\n)\\n\\n/*\\n3 rows from people table:\\nid\\tname\\tbirth\\n1\\tFred Astaire\\t1899.0000000000\\n2\\tLauren Bacall\\t1924.0000000000\\n3\\tBrigitte Bardot\\t1934.0000000000\\n*/\\n\\n\\nCREATE TABLE directors (\\n\\tmovie_id INTEGER NOT NULL, \\n\\tperson_id INTEGER NOT NULL, \\n\\tFOREIGN KEY(movie_id) REFERENCES movies (id), \\n\\tFOREIGN KEY(person_id) REFERENCES people (id)\\n)\\n\\n/*\\n3 rows from directors table:\\nmovie_id\\tperson_id\\n15724\\t529960\\n23331\\t412235\\n31458\\t649563\\n*/\\n\\n\\nCREATE TABLE ratings (\\n\\tmovie_id INTEGER NOT NULL, \\n\\trating REAL NOT NULL, \\n\\tvotes INTEGER NOT NULL, \\n\\tFOREIGN KEY(movie_id) REFERENCES movies (id)\\n)\\n\\n/*\\n3 rows from ratings table:\\nmovie_id\\trating\\tvotes\\n15724\\t6.2\\t20\\n23331\\t6.8\\t68\\n31458\\t7.0\\t6\\n*/\\n\\n\\nCREATE TABLE stars (\\n\\tmovie_id INTEGER NOT NULL, \\n\\tperson_id INTEGER NOT NULL, \\n\\tFOREIGN KEY(movie_id) REFERENCES movies (id), \\n\\tFOREIGN KEY(person_id) REFERENCES people (id)\\n)\\n\\n/*\\n3 rows from stars table:\\nmovie_id\\tperson_id\\n15724\\t844752\\n15724\\t869732\\n15724\\t194720\\n*/',\n",
       "  'stop': ['\\nSQLResult:']},\n",
       " 'At least 5 movies have 5 stars.']"
      ]
     },
     "execution_count": 39,
     "metadata": {},
     "output_type": "execute_result"
    }
   ],
   "source": [
    "isteps"
   ]
  },
  {
   "cell_type": "code",
   "execution_count": 37,
   "metadata": {},
   "outputs": [
    {
     "data": {
      "text/plain": [
       "{'input': 'How many movies have 5 stars?\\nSQLQuery:SELECT COUNT(*) FROM movies m INNER JOIN stars s ON m.id = s.movie_id GROUP BY m.id HAVING COUNT(*) = 5 LIMIT 5;\\nSQLResult: [(5,), (5,), (5,), (5,), (5,)]\\nAnswer:',\n",
       " 'top_k': '5',\n",
       " 'dialect': 'sqlite',\n",
       " 'table_info': '\\nCREATE TABLE movies (\\n\\tid INTEGER, \\n\\ttitle TEXT NOT NULL, \\n\\tyear NUMERIC, \\n\\tPRIMARY KEY (id)\\n)\\n\\n/*\\n3 rows from movies table:\\nid\\ttitle\\tyear\\n15724\\tDama de noche\\t1993.0000000000\\n23331\\tPesn o geroyakh\\t1983.0000000000\\n31458\\tEl huésped del sevillano\\t1970.0000000000\\n*/\\n\\n\\nCREATE TABLE people (\\n\\tid INTEGER, \\n\\tname TEXT NOT NULL, \\n\\tbirth NUMERIC, \\n\\tPRIMARY KEY (id)\\n)\\n\\n/*\\n3 rows from people table:\\nid\\tname\\tbirth\\n1\\tFred Astaire\\t1899.0000000000\\n2\\tLauren Bacall\\t1924.0000000000\\n3\\tBrigitte Bardot\\t1934.0000000000\\n*/\\n\\n\\nCREATE TABLE directors (\\n\\tmovie_id INTEGER NOT NULL, \\n\\tperson_id INTEGER NOT NULL, \\n\\tFOREIGN KEY(movie_id) REFERENCES movies (id), \\n\\tFOREIGN KEY(person_id) REFERENCES people (id)\\n)\\n\\n/*\\n3 rows from directors table:\\nmovie_id\\tperson_id\\n15724\\t529960\\n23331\\t412235\\n31458\\t649563\\n*/\\n\\n\\nCREATE TABLE ratings (\\n\\tmovie_id INTEGER NOT NULL, \\n\\trating REAL NOT NULL, \\n\\tvotes INTEGER NOT NULL, \\n\\tFOREIGN KEY(movie_id) REFERENCES movies (id)\\n)\\n\\n/*\\n3 rows from ratings table:\\nmovie_id\\trating\\tvotes\\n15724\\t6.2\\t20\\n23331\\t6.8\\t68\\n31458\\t7.0\\t6\\n*/\\n\\n\\nCREATE TABLE stars (\\n\\tmovie_id INTEGER NOT NULL, \\n\\tperson_id INTEGER NOT NULL, \\n\\tFOREIGN KEY(movie_id) REFERENCES movies (id), \\n\\tFOREIGN KEY(person_id) REFERENCES people (id)\\n)\\n\\n/*\\n3 rows from stars table:\\nmovie_id\\tperson_id\\n15724\\t844752\\n15724\\t869732\\n15724\\t194720\\n*/',\n",
       " 'stop': ['\\nSQLResult:']}"
      ]
     },
     "execution_count": 37,
     "metadata": {},
     "output_type": "execute_result"
    }
   ],
   "source": [
    "isteps[0]"
   ]
  },
  {
   "cell_type": "code",
   "execution_count": 38,
   "metadata": {},
   "outputs": [
    {
     "data": {
      "text/plain": [
       "'SELECT COUNT(*) FROM movies m INNER JOIN stars s ON m.id = s.movie_id GROUP BY m.id HAVING COUNT(*) = 5 LIMIT 5;'"
      ]
     },
     "execution_count": 38,
     "metadata": {},
     "output_type": "execute_result"
    }
   ],
   "source": [
    "isteps[1]"
   ]
  },
  {
   "cell_type": "code",
   "execution_count": 40,
   "metadata": {},
   "outputs": [],
   "source": [
    "db_chain3 = SQLDatabaseChain.from_llm(llm, db, verbose=True, top_k=10, use_query_checker=True, return_intermediate_steps=True)"
   ]
  },
  {
   "cell_type": "code",
   "execution_count": 42,
   "metadata": {},
   "outputs": [
    {
     "name": "stdout",
     "output_type": "stream",
     "text": [
      "\n",
      "\n",
      "\u001b[1m> Entering new SQLDatabaseChain chain...\u001b[0m\n",
      "How many movies have 5 stars?\n",
      "SQLQuery:\u001b[32;1m\u001b[1;3mSELECT COUNT(*) FROM movies m INNER JOIN stars s ON m.id = s.movie_id GROUP BY m.id HAVING COUNT(*) = 5 LIMIT 10;\u001b[0m\n",
      "SQLResult: \u001b[33;1m\u001b[1;3m[(5,), (5,), (5,), (5,), (5,), (5,), (5,), (5,), (5,), (5,)]\u001b[0m\n",
      "Answer:\u001b[32;1m\u001b[1;3m10 movies have 5 stars.\u001b[0m\n",
      "\u001b[1m> Finished chain.\u001b[0m\n"
     ]
    }
   ],
   "source": [
    "result3 = db_chain3(\"How many movies have 5 stars?\")"
   ]
  },
  {
   "cell_type": "code",
   "execution_count": 62,
   "metadata": {},
   "outputs": [],
   "source": [
    "from langchain.chains import SQLDatabaseSequentialChain"
   ]
  },
  {
   "cell_type": "code",
   "execution_count": 131,
   "metadata": {},
   "outputs": [],
   "source": [
    "chain4 = SQLDatabaseSequentialChain.from_llm(llm, db, verbose=True, top_k=20)"
   ]
  },
  {
   "cell_type": "code",
   "execution_count": 128,
   "metadata": {},
   "outputs": [
    {
     "name": "stdout",
     "output_type": "stream",
     "text": [
      "\n",
      "\n",
      "\u001b[1m> Entering new SQLDatabaseSequentialChain chain...\u001b[0m\n",
      "Table names to use:\n",
      "\u001b[33;1m\u001b[1;3m['movies']\u001b[0m\n",
      "\n",
      "\u001b[1m> Entering new SQLDatabaseChain chain...\u001b[0m\n",
      "How many movies are released in 2020?\n",
      "SQLQuery:\u001b[32;1m\u001b[1;3mSELECT COUNT(*) FROM movies WHERE year = 2020;\u001b[0m\n",
      "SQLResult: \u001b[33;1m\u001b[1;3m[(3843,)]\u001b[0m\n",
      "Answer:\u001b[32;1m\u001b[1;3m3843 movies were released in 2020.\u001b[0m\n",
      "\u001b[1m> Finished chain.\u001b[0m\n",
      "\n",
      "\u001b[1m> Finished chain.\u001b[0m\n"
     ]
    },
    {
     "data": {
      "text/plain": [
       "'3843 movies were released in 2020.'"
      ]
     },
     "execution_count": 128,
     "metadata": {},
     "output_type": "execute_result"
    }
   ],
   "source": [
    "chain4.run(\"How many movies are released in 2020?\")"
   ]
  },
  {
   "cell_type": "code",
   "execution_count": 132,
   "metadata": {},
   "outputs": [
    {
     "name": "stdout",
     "output_type": "stream",
     "text": [
      "\n",
      "\n",
      "\u001b[1m> Entering new SQLDatabaseSequentialChain chain...\u001b[0m\n",
      "Table names to use:\n",
      "\u001b[33;1m\u001b[1;3m['movies', 'people']\u001b[0m\n",
      "\n",
      "\u001b[1m> Entering new SQLDatabaseChain chain...\u001b[0m\n",
      "List the titles and release years of all Harry Potter movies, in chronological order.\n",
      "SQLQuery:\u001b[32;1m\u001b[1;3mSELECT title, year FROM movies WHERE title LIKE '%Harry Potter%' ORDER BY year ASC LIMIT 20;\u001b[0m\n",
      "SQLResult: \u001b[33;1m\u001b[1;3m[(\"Harry Potter and the Sorcerer's Stone\", 2001), ('Harry Potter and the Chamber of Secrets', 2002), ('Harry Potter and the Prisoner of Azkaban', 2004), ('Harry Potter and the Goblet of Fire', 2005), ('Harry Potter and the Order of the Phoenix', 2007), ('Harry Potter and the Half-Blood Prince', 2009), ('Harry Potter and the Deathly Hallows: Part 1', 2010), ('Creating the World of Harry Potter, Part 4: Sound and Music', 2010), ('The Seekers Guide to Harry Potter', 2010), ('Harry Potter and the Deathly Hallows: Part 2', 2011), ('Harry Potter and the Untold Stories of Hogwarts', 2012), ('Harry Potter: A History of Magic', 2017), ('The Harry Potter Saga Analyzed', 2018)]\u001b[0m\n",
      "Answer:\u001b[32;1m\u001b[1;3mThe Harry Potter movies, in chronological order, are \"Harry Potter and the Sorcerer's Stone\" (2001), \"Harry Potter and the Chamber of Secrets\" (2002), \"Harry Potter and the Prisoner of Azkaban\" (2004), \"Harry Potter and the Goblet of Fire\" (2005), \"Harry Potter and the Order of the Phoenix\" (2007), \"Harry Potter and the Half-Blood Prince\" (2009), \"Harry Potter and the Deathly Hallows: Part 1\" (2010), \"Creating the World of Harry Potter, Part 4: Sound and Music\" (2010), \"The Seekers Guide to Harry Potter\" (2010), \"Harry Potter and the Deathly Hallows: Part 2\" (2011), \"Harry Potter and the Untold Stories of Hogwarts\" (2012), and \"Harry Potter: A History of Magic\" (2017) and \"The Harry Potter Saga Analyzed\" (2018).\u001b[0m\n",
      "\u001b[1m> Finished chain.\u001b[0m\n",
      "\n",
      "\u001b[1m> Finished chain.\u001b[0m\n"
     ]
    },
    {
     "data": {
      "text/plain": [
       "'The Harry Potter movies, in chronological order, are \"Harry Potter and the Sorcerer\\'s Stone\" (2001), \"Harry Potter and the Chamber of Secrets\" (2002), \"Harry Potter and the Prisoner of Azkaban\" (2004), \"Harry Potter and the Goblet of Fire\" (2005), \"Harry Potter and the Order of the Phoenix\" (2007), \"Harry Potter and the Half-Blood Prince\" (2009), \"Harry Potter and the Deathly Hallows: Part 1\" (2010), \"Creating the World of Harry Potter, Part 4: Sound and Music\" (2010), \"The Seekers Guide to Harry Potter\" (2010), \"Harry Potter and the Deathly Hallows: Part 2\" (2011), \"Harry Potter and the Untold Stories of Hogwarts\" (2012), and \"Harry Potter: A History of Magic\" (2017) and \"The Harry Potter Saga Analyzed\" (2018).'"
      ]
     },
     "execution_count": 132,
     "metadata": {},
     "output_type": "execute_result"
    }
   ],
   "source": [
    "chain4.run(\"List the titles and release years of all Harry Potter movies, in chronological order.\")"
   ]
  }
 ],
 "metadata": {
  "kernelspec": {
   "display_name": "textgen",
   "language": "python",
   "name": "python3"
  },
  "language_info": {
   "codemirror_mode": {
    "name": "ipython",
    "version": 3
   },
   "file_extension": ".py",
   "mimetype": "text/x-python",
   "name": "python",
   "nbconvert_exporter": "python",
   "pygments_lexer": "ipython3",
   "version": "3.10.9"
  },
  "orig_nbformat": 4
 },
 "nbformat": 4,
 "nbformat_minor": 2
}
