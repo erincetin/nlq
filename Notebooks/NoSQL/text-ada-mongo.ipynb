{
 "cells": [
  {
   "cell_type": "code",
   "execution_count": 1,
   "metadata": {},
   "outputs": [
    {
     "name": "stdout",
     "output_type": "stream",
     "text": [
      "Requirement already satisfied: python-dotenv==1.0.0 in /home/orientusprime/miniconda3/envs/textgen/lib/python3.10/site-packages (from -r requirements.txt (line 1)) (1.0.0)\n",
      "Requirement already satisfied: langchain==0.0.154 in /home/orientusprime/miniconda3/envs/textgen/lib/python3.10/site-packages (from -r requirements.txt (line 2)) (0.0.154)\n",
      "Requirement already satisfied: pinecone-client==2.2.1 in /home/orientusprime/miniconda3/envs/textgen/lib/python3.10/site-packages (from -r requirements.txt (line 3)) (2.2.1)\n",
      "Requirement already satisfied: openai==0.27.5 in /home/orientusprime/miniconda3/envs/textgen/lib/python3.10/site-packages (from -r requirements.txt (line 4)) (0.27.5)\n",
      "Requirement already satisfied: gradio==3.18.0 in /home/orientusprime/miniconda3/envs/textgen/lib/python3.10/site-packages (from -r requirements.txt (line 5)) (3.18.0)\n",
      "Requirement already satisfied: tenacity<9.0.0,>=8.1.0 in /home/orientusprime/miniconda3/envs/textgen/lib/python3.10/site-packages (from langchain==0.0.154->-r requirements.txt (line 2)) (8.2.2)\n",
      "Requirement already satisfied: aiohttp<4.0.0,>=3.8.3 in /home/orientusprime/miniconda3/envs/textgen/lib/python3.10/site-packages (from langchain==0.0.154->-r requirements.txt (line 2)) (3.8.4)\n",
      "Requirement already satisfied: tqdm>=4.48.0 in /home/orientusprime/miniconda3/envs/textgen/lib/python3.10/site-packages (from langchain==0.0.154->-r requirements.txt (line 2)) (4.65.0)\n",
      "Requirement already satisfied: numpy<2,>=1 in /home/orientusprime/miniconda3/envs/textgen/lib/python3.10/site-packages (from langchain==0.0.154->-r requirements.txt (line 2)) (1.24.2)\n",
      "Requirement already satisfied: async-timeout<5.0.0,>=4.0.0 in /home/orientusprime/miniconda3/envs/textgen/lib/python3.10/site-packages (from langchain==0.0.154->-r requirements.txt (line 2)) (4.0.2)\n",
      "Requirement already satisfied: openapi-schema-pydantic<2.0,>=1.2 in /home/orientusprime/miniconda3/envs/textgen/lib/python3.10/site-packages (from langchain==0.0.154->-r requirements.txt (line 2)) (1.2.4)\n",
      "Requirement already satisfied: SQLAlchemy<3,>1.4 in /home/orientusprime/miniconda3/envs/textgen/lib/python3.10/site-packages (from langchain==0.0.154->-r requirements.txt (line 2)) (2.0.12)\n",
      "Requirement already satisfied: PyYAML>=5.4.1 in /home/orientusprime/miniconda3/envs/textgen/lib/python3.10/site-packages (from langchain==0.0.154->-r requirements.txt (line 2)) (6.0)\n",
      "Requirement already satisfied: requests<3,>=2 in /home/orientusprime/miniconda3/envs/textgen/lib/python3.10/site-packages (from langchain==0.0.154->-r requirements.txt (line 2)) (2.28.2)\n",
      "Requirement already satisfied: numexpr<3.0.0,>=2.8.4 in /home/orientusprime/miniconda3/envs/textgen/lib/python3.10/site-packages (from langchain==0.0.154->-r requirements.txt (line 2)) (2.8.4)\n",
      "Requirement already satisfied: pydantic<2,>=1 in /home/orientusprime/miniconda3/envs/textgen/lib/python3.10/site-packages (from langchain==0.0.154->-r requirements.txt (line 2)) (1.10.6)\n",
      "Requirement already satisfied: dataclasses-json<0.6.0,>=0.5.7 in /home/orientusprime/miniconda3/envs/textgen/lib/python3.10/site-packages (from langchain==0.0.154->-r requirements.txt (line 2)) (0.5.7)\n",
      "Requirement already satisfied: typing-extensions>=3.7.4 in /home/orientusprime/miniconda3/envs/textgen/lib/python3.10/site-packages (from pinecone-client==2.2.1->-r requirements.txt (line 3)) (4.5.0)\n",
      "Requirement already satisfied: loguru>=0.5.0 in /home/orientusprime/miniconda3/envs/textgen/lib/python3.10/site-packages (from pinecone-client==2.2.1->-r requirements.txt (line 3)) (0.7.0)\n",
      "Requirement already satisfied: urllib3>=1.21.1 in /home/orientusprime/miniconda3/envs/textgen/lib/python3.10/site-packages (from pinecone-client==2.2.1->-r requirements.txt (line 3)) (1.26.15)\n",
      "Requirement already satisfied: dnspython>=2.0.0 in /home/orientusprime/miniconda3/envs/textgen/lib/python3.10/site-packages (from pinecone-client==2.2.1->-r requirements.txt (line 3)) (2.3.0)\n",
      "Requirement already satisfied: python-dateutil>=2.5.3 in /home/orientusprime/miniconda3/envs/textgen/lib/python3.10/site-packages (from pinecone-client==2.2.1->-r requirements.txt (line 3)) (2.8.2)\n",
      "Requirement already satisfied: orjson in /home/orientusprime/miniconda3/envs/textgen/lib/python3.10/site-packages (from gradio==3.18.0->-r requirements.txt (line 5)) (3.8.7)\n",
      "Requirement already satisfied: pandas in /home/orientusprime/miniconda3/envs/textgen/lib/python3.10/site-packages (from gradio==3.18.0->-r requirements.txt (line 5)) (1.5.3)\n",
      "Requirement already satisfied: jinja2 in /home/orientusprime/miniconda3/envs/textgen/lib/python3.10/site-packages (from gradio==3.18.0->-r requirements.txt (line 5)) (3.1.2)\n",
      "Requirement already satisfied: altair>=4.2.0 in /home/orientusprime/miniconda3/envs/textgen/lib/python3.10/site-packages (from gradio==3.18.0->-r requirements.txt (line 5)) (4.2.2)\n",
      "Requirement already satisfied: fsspec in /home/orientusprime/miniconda3/envs/textgen/lib/python3.10/site-packages (from gradio==3.18.0->-r requirements.txt (line 5)) (2023.3.0)\n",
      "Requirement already satisfied: pillow in /home/orientusprime/miniconda3/envs/textgen/lib/python3.10/site-packages (from gradio==3.18.0->-r requirements.txt (line 5)) (9.4.0)\n",
      "Requirement already satisfied: uvicorn in /home/orientusprime/miniconda3/envs/textgen/lib/python3.10/site-packages (from gradio==3.18.0->-r requirements.txt (line 5)) (0.21.1)\n",
      "Requirement already satisfied: fastapi in /home/orientusprime/miniconda3/envs/textgen/lib/python3.10/site-packages (from gradio==3.18.0->-r requirements.txt (line 5)) (0.95.0)\n",
      "Requirement already satisfied: matplotlib in /home/orientusprime/miniconda3/envs/textgen/lib/python3.10/site-packages (from gradio==3.18.0->-r requirements.txt (line 5)) (3.7.1)\n",
      "Requirement already satisfied: markupsafe in /home/orientusprime/miniconda3/envs/textgen/lib/python3.10/site-packages (from gradio==3.18.0->-r requirements.txt (line 5)) (2.1.2)\n",
      "Requirement already satisfied: pycryptodome in /home/orientusprime/miniconda3/envs/textgen/lib/python3.10/site-packages (from gradio==3.18.0->-r requirements.txt (line 5)) (3.17)\n",
      "Requirement already satisfied: aiofiles in /home/orientusprime/miniconda3/envs/textgen/lib/python3.10/site-packages (from gradio==3.18.0->-r requirements.txt (line 5)) (23.1.0)\n",
      "Requirement already satisfied: ffmpy in /home/orientusprime/miniconda3/envs/textgen/lib/python3.10/site-packages (from gradio==3.18.0->-r requirements.txt (line 5)) (0.3.0)\n",
      "Requirement already satisfied: websockets>=10.0 in /home/orientusprime/miniconda3/envs/textgen/lib/python3.10/site-packages (from gradio==3.18.0->-r requirements.txt (line 5)) (10.4)\n",
      "Requirement already satisfied: markdown-it-py[linkify,plugins]>=2.0.0 in /home/orientusprime/miniconda3/envs/textgen/lib/python3.10/site-packages (from gradio==3.18.0->-r requirements.txt (line 5)) (2.2.0)\n",
      "Requirement already satisfied: pydub in /home/orientusprime/miniconda3/envs/textgen/lib/python3.10/site-packages (from gradio==3.18.0->-r requirements.txt (line 5)) (0.25.1)\n",
      "Requirement already satisfied: httpx in /home/orientusprime/miniconda3/envs/textgen/lib/python3.10/site-packages (from gradio==3.18.0->-r requirements.txt (line 5)) (0.23.3)\n",
      "Requirement already satisfied: python-multipart in /home/orientusprime/miniconda3/envs/textgen/lib/python3.10/site-packages (from gradio==3.18.0->-r requirements.txt (line 5)) (0.0.6)\n",
      "Requirement already satisfied: attrs>=17.3.0 in /home/orientusprime/miniconda3/envs/textgen/lib/python3.10/site-packages (from aiohttp<4.0.0,>=3.8.3->langchain==0.0.154->-r requirements.txt (line 2)) (22.2.0)\n",
      "Requirement already satisfied: multidict<7.0,>=4.5 in /home/orientusprime/miniconda3/envs/textgen/lib/python3.10/site-packages (from aiohttp<4.0.0,>=3.8.3->langchain==0.0.154->-r requirements.txt (line 2)) (6.0.4)\n",
      "Requirement already satisfied: yarl<2.0,>=1.0 in /home/orientusprime/miniconda3/envs/textgen/lib/python3.10/site-packages (from aiohttp<4.0.0,>=3.8.3->langchain==0.0.154->-r requirements.txt (line 2)) (1.8.2)\n",
      "Requirement already satisfied: charset-normalizer<4.0,>=2.0 in /home/orientusprime/miniconda3/envs/textgen/lib/python3.10/site-packages (from aiohttp<4.0.0,>=3.8.3->langchain==0.0.154->-r requirements.txt (line 2)) (3.1.0)\n",
      "Requirement already satisfied: frozenlist>=1.1.1 in /home/orientusprime/miniconda3/envs/textgen/lib/python3.10/site-packages (from aiohttp<4.0.0,>=3.8.3->langchain==0.0.154->-r requirements.txt (line 2)) (1.3.3)\n",
      "Requirement already satisfied: aiosignal>=1.1.2 in /home/orientusprime/miniconda3/envs/textgen/lib/python3.10/site-packages (from aiohttp<4.0.0,>=3.8.3->langchain==0.0.154->-r requirements.txt (line 2)) (1.3.1)\n",
      "Requirement already satisfied: toolz in /home/orientusprime/miniconda3/envs/textgen/lib/python3.10/site-packages (from altair>=4.2.0->gradio==3.18.0->-r requirements.txt (line 5)) (0.12.0)\n",
      "Requirement already satisfied: entrypoints in /home/orientusprime/miniconda3/envs/textgen/lib/python3.10/site-packages (from altair>=4.2.0->gradio==3.18.0->-r requirements.txt (line 5)) (0.4)\n",
      "Requirement already satisfied: jsonschema>=3.0 in /home/orientusprime/miniconda3/envs/textgen/lib/python3.10/site-packages (from altair>=4.2.0->gradio==3.18.0->-r requirements.txt (line 5)) (4.17.3)\n",
      "Requirement already satisfied: marshmallow-enum<2.0.0,>=1.5.1 in /home/orientusprime/miniconda3/envs/textgen/lib/python3.10/site-packages (from dataclasses-json<0.6.0,>=0.5.7->langchain==0.0.154->-r requirements.txt (line 2)) (1.5.1)\n",
      "Requirement already satisfied: marshmallow<4.0.0,>=3.3.0 in /home/orientusprime/miniconda3/envs/textgen/lib/python3.10/site-packages (from dataclasses-json<0.6.0,>=0.5.7->langchain==0.0.154->-r requirements.txt (line 2)) (3.19.0)\n",
      "Requirement already satisfied: typing-inspect>=0.4.0 in /home/orientusprime/miniconda3/envs/textgen/lib/python3.10/site-packages (from dataclasses-json<0.6.0,>=0.5.7->langchain==0.0.154->-r requirements.txt (line 2)) (0.8.0)\n",
      "Requirement already satisfied: mdurl~=0.1 in /home/orientusprime/miniconda3/envs/textgen/lib/python3.10/site-packages (from markdown-it-py[linkify,plugins]>=2.0.0->gradio==3.18.0->-r requirements.txt (line 5)) (0.1.2)\n",
      "Requirement already satisfied: mdit-py-plugins in /home/orientusprime/miniconda3/envs/textgen/lib/python3.10/site-packages (from markdown-it-py[linkify,plugins]>=2.0.0->gradio==3.18.0->-r requirements.txt (line 5)) (0.3.5)\n",
      "Requirement already satisfied: linkify-it-py<3,>=1 in /home/orientusprime/miniconda3/envs/textgen/lib/python3.10/site-packages (from markdown-it-py[linkify,plugins]>=2.0.0->gradio==3.18.0->-r requirements.txt (line 5)) (2.0.0)\n",
      "Requirement already satisfied: pytz>=2020.1 in /home/orientusprime/miniconda3/envs/textgen/lib/python3.10/site-packages (from pandas->gradio==3.18.0->-r requirements.txt (line 5)) (2022.7.1)\n",
      "Requirement already satisfied: six>=1.5 in /home/orientusprime/miniconda3/envs/textgen/lib/python3.10/site-packages (from python-dateutil>=2.5.3->pinecone-client==2.2.1->-r requirements.txt (line 3)) (1.16.0)\n",
      "Requirement already satisfied: certifi>=2017.4.17 in /home/orientusprime/miniconda3/envs/textgen/lib/python3.10/site-packages (from requests<3,>=2->langchain==0.0.154->-r requirements.txt (line 2)) (2022.12.7)\n",
      "Requirement already satisfied: idna<4,>=2.5 in /home/orientusprime/miniconda3/envs/textgen/lib/python3.10/site-packages (from requests<3,>=2->langchain==0.0.154->-r requirements.txt (line 2)) (3.4)\n",
      "Requirement already satisfied: greenlet!=0.4.17 in /home/orientusprime/miniconda3/envs/textgen/lib/python3.10/site-packages (from SQLAlchemy<3,>1.4->langchain==0.0.154->-r requirements.txt (line 2)) (2.0.2)\n",
      "Requirement already satisfied: starlette<0.27.0,>=0.26.1 in /home/orientusprime/miniconda3/envs/textgen/lib/python3.10/site-packages (from fastapi->gradio==3.18.0->-r requirements.txt (line 5)) (0.26.1)\n",
      "Requirement already satisfied: httpcore<0.17.0,>=0.15.0 in /home/orientusprime/miniconda3/envs/textgen/lib/python3.10/site-packages (from httpx->gradio==3.18.0->-r requirements.txt (line 5)) (0.16.3)\n",
      "Requirement already satisfied: sniffio in /home/orientusprime/miniconda3/envs/textgen/lib/python3.10/site-packages (from httpx->gradio==3.18.0->-r requirements.txt (line 5)) (1.3.0)\n",
      "Requirement already satisfied: rfc3986[idna2008]<2,>=1.3 in /home/orientusprime/miniconda3/envs/textgen/lib/python3.10/site-packages (from httpx->gradio==3.18.0->-r requirements.txt (line 5)) (1.5.0)\n",
      "Requirement already satisfied: contourpy>=1.0.1 in /home/orientusprime/miniconda3/envs/textgen/lib/python3.10/site-packages (from matplotlib->gradio==3.18.0->-r requirements.txt (line 5)) (1.0.7)\n",
      "Requirement already satisfied: pyparsing>=2.3.1 in /home/orientusprime/miniconda3/envs/textgen/lib/python3.10/site-packages (from matplotlib->gradio==3.18.0->-r requirements.txt (line 5)) (3.0.9)\n",
      "Requirement already satisfied: cycler>=0.10 in /home/orientusprime/miniconda3/envs/textgen/lib/python3.10/site-packages (from matplotlib->gradio==3.18.0->-r requirements.txt (line 5)) (0.11.0)\n",
      "Requirement already satisfied: kiwisolver>=1.0.1 in /home/orientusprime/miniconda3/envs/textgen/lib/python3.10/site-packages (from matplotlib->gradio==3.18.0->-r requirements.txt (line 5)) (1.4.4)\n",
      "Requirement already satisfied: packaging>=20.0 in /home/orientusprime/miniconda3/envs/textgen/lib/python3.10/site-packages (from matplotlib->gradio==3.18.0->-r requirements.txt (line 5)) (23.0)\n",
      "Requirement already satisfied: fonttools>=4.22.0 in /home/orientusprime/miniconda3/envs/textgen/lib/python3.10/site-packages (from matplotlib->gradio==3.18.0->-r requirements.txt (line 5)) (4.39.2)\n",
      "Requirement already satisfied: click>=7.0 in /home/orientusprime/miniconda3/envs/textgen/lib/python3.10/site-packages (from uvicorn->gradio==3.18.0->-r requirements.txt (line 5)) (8.1.3)\n",
      "Requirement already satisfied: h11>=0.8 in /home/orientusprime/miniconda3/envs/textgen/lib/python3.10/site-packages (from uvicorn->gradio==3.18.0->-r requirements.txt (line 5)) (0.14.0)\n",
      "Requirement already satisfied: anyio<5.0,>=3.0 in /home/orientusprime/miniconda3/envs/textgen/lib/python3.10/site-packages (from httpcore<0.17.0,>=0.15.0->httpx->gradio==3.18.0->-r requirements.txt (line 5)) (3.6.2)\n",
      "Requirement already satisfied: pyrsistent!=0.17.0,!=0.17.1,!=0.17.2,>=0.14.0 in /home/orientusprime/miniconda3/envs/textgen/lib/python3.10/site-packages (from jsonschema>=3.0->altair>=4.2.0->gradio==3.18.0->-r requirements.txt (line 5)) (0.19.3)\n",
      "Requirement already satisfied: uc-micro-py in /home/orientusprime/miniconda3/envs/textgen/lib/python3.10/site-packages (from linkify-it-py<3,>=1->markdown-it-py[linkify,plugins]>=2.0.0->gradio==3.18.0->-r requirements.txt (line 5)) (1.0.1)\n",
      "Requirement already satisfied: mypy-extensions>=0.3.0 in /home/orientusprime/miniconda3/envs/textgen/lib/python3.10/site-packages (from typing-inspect>=0.4.0->dataclasses-json<0.6.0,>=0.5.7->langchain==0.0.154->-r requirements.txt (line 2)) (1.0.0)\n"
     ]
    }
   ],
   "source": [
    "!pip install -r requirements.txt"
   ]
  },
  {
   "cell_type": "code",
   "execution_count": 2,
   "metadata": {},
   "outputs": [],
   "source": [
    "import openai\n",
    "import gradio as gr\n",
    "import os\n"
   ]
  },
  {
   "cell_type": "code",
   "execution_count": 3,
   "metadata": {},
   "outputs": [],
   "source": [
    "openai.api_key = os.getenv(\"OPENAI_API_KEY\")"
   ]
  },
  {
   "cell_type": "code",
   "execution_count": 29,
   "metadata": {},
   "outputs": [],
   "source": [
    "def gpt3(query,database):\n",
    "    response = openai.Completion.create(\n",
    "    model=\"text-ada-001\",\n",
    "    prompt=\"You are a MongoDB query generator for a database with the following collections and their properties:\\n\\n\\n\" + database + \"\\n\\nUser: List the names of the departments which employed more than 10 employees in the last 3 months\\nAssistant:\\n'''\\ndb.Department.aggregate([\\n  {\\n    $lookup: {\\n      from: \\\"Employee\\\",\\n      localField: \\\"_id\\\",\\n      foreignField: \\\"department_id\\\",\\n      as: \\\"employees\\\"\\n    }\\n  },\\n  {\\n    $lookup: {\\n      from: \\\"Salary_Payments\\\",\\n      localField: \\\"employees._id\\\",\\n      foreignField: \\\"employee_id\\\",\\n      as: \\\"salary_payments\\\"\\n    }\\n  },\\n  {\\n    $match: {\\n      \\\"salary_payments.date\\\": { $gte: new Date(new Date().getTime() - 1000 * 60 * 60 * 24 * 90) }\\n    }\\n  },\\n  {\\n    $group: {\\n      _id: \\\"$name\\\",\\n      employeeCount: { $sum: 1 }\\n    }\\n  },\\n  {\\n    $match: {\\n      employeeCount: { $gt: 10 }\\n    }\\n  },\\n  {\\n    $project: {\\n      _id: 0,\\n      department_name: \\\"$_id\\\"\\n    }\\n  }\\n]);\\n'''\\nUser: List the names of the departments which employed more than 3 employees and has id less than 3400\\nAssistant: \\n'''\\ndb.Department.aggregate([\\n  {\\n    $match: { _id: { $lt: 3400 } }\\n  },\\n  {\\n    $lookup: {\\n      from: \\\"Employee\\\",\\n      localField: \\\"_id\\\",\\n      foreignField: \\\"department_id\\\",\\n      as: \\\"employees\\\"\\n    }\\n  },\\n  {\\n    $group: {\\n      _id: \\\"$name\\\",\\n      employeeCount: { $sum: { $size: \\\"$employees\\\" } }\\n    }\\n  },\\n  {\\n    $match: {\\n      employeeCount: { $gt: 3 }\\n    }\\n  },\\n  {\\n    $project: {\\n      _id: 0,\\n      department_name: \\\"$_id\\\"\\n    }\\n  }\\n]);\\n'''\\nUser: \" + query + \"\\nAssistant:\\n'''\\n\",\n",
    "    temperature=0,\n",
    "    max_tokens=250,\n",
    "    top_p=1,\n",
    "    frequency_penalty=0,\n",
    "    presence_penalty=0,\n",
    "    stop=[\"User:\"]\n",
    "    )\n",
    "\n",
    "    x = response.choices[0].text\n",
    "    \n",
    "    return x "
   ]
  },
  {
   "cell_type": "code",
   "execution_count": 30,
   "metadata": {},
   "outputs": [],
   "source": [
    "def greet(query,database):\n",
    "    sql = gpt3(query,database)\n",
    "    return sql"
   ]
  },
  {
   "cell_type": "code",
   "execution_count": 31,
   "metadata": {},
   "outputs": [
    {
     "data": {
      "text/plain": [
       "'db.Department.aggregate([\\n\\n{\\n    $lookup: {\\n      from: \"Employee\",\\n      localField: \"_id\",\\n      foreignField: \"department_id\",\\n      as: \"employees\"\\n    }\\n   },\\n  {\\n    $lookup: {\\n      from: \"Salary_Payments\",\\n      localField: \"employees._id\",\\n      foreignField: \"employee_id\",\\n      as: \"salary_payments\"\\n    },\\n  {\\n    $match: {\\n      \"salary_payments.date\": { $gte: new Date(new Date().getTime() - 1000 * 60 * 60 * 24 * 90) }\\n    }\\n  },\\n  {\\n    $match: {\\n      \"salary_payments.date\": { $gt: 10 }\\n '"
      ]
     },
     "execution_count": 31,
     "metadata": {},
     "output_type": "execute_result"
    }
   ],
   "source": [
    "greet(\"List the names of the departments which employed less than 10 employees\",\"Employee(id, name, department_id)\\nDepartment(id, name, address)\\nSalary_Payments(id, employee_id, amount, date)\")"
   ]
  },
  {
   "cell_type": "code",
   "execution_count": 33,
   "metadata": {},
   "outputs": [],
   "source": [
    "with gr.Blocks() as demo:\n",
    "    textbox = gr.Textbox(placeholder=\"Type here...\", lines=10)\n",
    "    btn = gr.Button(\"Complete\")\n",
    "    \n",
    "    # define what will run when the button is clicked, here the textbox is used as both an input and an output\n",
    "    btn.click(fn=greet, inputs=textbox, outputs=textbox, queue=False)"
   ]
  },
  {
   "cell_type": "code",
   "execution_count": 34,
   "metadata": {},
   "outputs": [],
   "source": [
    "examples = [\n",
    "    [\"List the names of the departments which employed more than 10 employees\",\"Employee(_id, name, department_id)\\nDepartment(_id, name, address)\\nSalary_Payments(_id, employee_id, amount, date)\"],\n",
    "    [\"List the names of the departments which employed less than 10 employees\",\"Employee(_id, name, department_id)\\nDepartment(_id, name, address)\\nSalary_Payments(_id, employee_id, amount, date)\",]\n",
    "] "
   ]
  },
  {
   "cell_type": "code",
   "execution_count": 35,
   "metadata": {},
   "outputs": [],
   "source": [
    "demo = gr.Interface(\n",
    "    fn=gpt3,\n",
    "    inputs=[\n",
    "        gr.components.Textbox(lines=5, label=\"Natural Language Query\"),\n",
    "        gr.components.Textbox(lines=5, label=\"Database Format\"),\n",
    "    ],\n",
    "    outputs=gr.components.Textbox(label=\"NoSQL Output\"),\n",
    "    examples=examples\n",
    ") "
   ]
  },
  {
   "cell_type": "code",
   "execution_count": 36,
   "metadata": {},
   "outputs": [
    {
     "name": "stdout",
     "output_type": "stream",
     "text": [
      "Running on local URL:  http://127.0.0.1:7860\n",
      "\n",
      "To create a public link, set `share=True` in `launch()`.\n"
     ]
    },
    {
     "data": {
      "text/html": [
       "<div><iframe src=\"http://127.0.0.1:7860/\" width=\"100%\" height=\"500\" allow=\"autoplay; camera; microphone; clipboard-read; clipboard-write;\" frameborder=\"0\" allowfullscreen></iframe></div>"
      ],
      "text/plain": [
       "<IPython.core.display.HTML object>"
      ]
     },
     "metadata": {},
     "output_type": "display_data"
    },
    {
     "name": "stdout",
     "output_type": "stream",
     "text": [
      "Keyboard interruption in main thread... closing server.\n"
     ]
    },
    {
     "data": {
      "text/plain": []
     },
     "execution_count": 36,
     "metadata": {},
     "output_type": "execute_result"
    }
   ],
   "source": [
    "demo.launch(share=False, debug=True) "
   ]
  }
 ],
 "metadata": {
  "kernelspec": {
   "display_name": "textgen",
   "language": "python",
   "name": "python3"
  },
  "language_info": {
   "codemirror_mode": {
    "name": "ipython",
    "version": 3
   },
   "file_extension": ".py",
   "mimetype": "text/x-python",
   "name": "python",
   "nbconvert_exporter": "python",
   "pygments_lexer": "ipython3",
   "version": "3.10.9"
  },
  "orig_nbformat": 4
 },
 "nbformat": 4,
 "nbformat_minor": 2
}
