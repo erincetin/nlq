{
 "cells": [
  {
   "cell_type": "code",
   "execution_count": null,
   "metadata": {},
   "outputs": [],
   "source": [
    "!pip install -r requirements.txt"
   ]
  },
  {
   "cell_type": "code",
   "execution_count": 60,
   "metadata": {},
   "outputs": [
    {
     "data": {
      "text/plain": [
       "True"
      ]
     },
     "execution_count": 60,
     "metadata": {},
     "output_type": "execute_result"
    }
   ],
   "source": [
    "from dotenv import load_dotenv\n",
    "\n",
    "load_dotenv()"
   ]
  },
  {
   "cell_type": "code",
   "execution_count": 61,
   "metadata": {},
   "outputs": [],
   "source": [
    "from langchain.llms import OpenAI"
   ]
  },
  {
   "cell_type": "code",
   "execution_count": 62,
   "metadata": {},
   "outputs": [],
   "source": [
    "import os\n",
    "\n",
    "openai_api_key = os.environ.get('OPENAI_API_KEY')"
   ]
  },
  {
   "cell_type": "code",
   "execution_count": 63,
   "metadata": {},
   "outputs": [],
   "source": [
    "llm = OpenAI(model_name=\"text-ada-001\", n=2, best_of=2)"
   ]
  },
  {
   "cell_type": "code",
   "execution_count": 64,
   "metadata": {},
   "outputs": [
    {
     "data": {
      "text/plain": [
       "'\\n\\nWhy did the chicken cross the road?\\n\\nTo get to the other side!'"
      ]
     },
     "execution_count": 64,
     "metadata": {},
     "output_type": "execute_result"
    }
   ],
   "source": [
    "llm(\"Tell me a joke\")"
   ]
  },
  {
   "cell_type": "code",
   "execution_count": 65,
   "metadata": {},
   "outputs": [],
   "source": [
    "from langchain.chat_models import ChatOpenAI\n",
    "from langchain import PromptTemplate, LLMChain\n",
    "from langchain.prompts.chat import (\n",
    "    ChatPromptTemplate,\n",
    "    SystemMessagePromptTemplate,\n",
    "    AIMessagePromptTemplate,\n",
    "    HumanMessagePromptTemplate,\n",
    ")\n",
    "from langchain.schema import (\n",
    "    AIMessage,\n",
    "    HumanMessage,\n",
    "    SystemMessage\n",
    ")"
   ]
  },
  {
   "cell_type": "code",
   "execution_count": 66,
   "metadata": {},
   "outputs": [],
   "source": [
    "chat = ChatOpenAI(temperature=0)"
   ]
  },
  {
   "cell_type": "code",
   "execution_count": 67,
   "metadata": {},
   "outputs": [],
   "source": [
    "messages = [\n",
    "    SystemMessage(content=\"You are a helpful assistant that translates English to French.\"),\n",
    "    HumanMessage(content=\"I love programming.\")\n",
    "]"
   ]
  },
  {
   "cell_type": "code",
   "execution_count": 68,
   "metadata": {},
   "outputs": [
    {
     "data": {
      "text/plain": [
       "AIMessage(content=\"J'adore la programmation.\", additional_kwargs={})"
      ]
     },
     "execution_count": 68,
     "metadata": {},
     "output_type": "execute_result"
    }
   ],
   "source": [
    "chat(messages)"
   ]
  },
  {
   "cell_type": "code",
   "execution_count": 69,
   "metadata": {},
   "outputs": [],
   "source": [
    "batch_messages = [\n",
    "    [\n",
    "        SystemMessage(content=\"You are a helpful assistant that translates English to French.\"),\n",
    "        HumanMessage(content=\"I love programming.\")\n",
    "    ],\n",
    "    [\n",
    "        SystemMessage(content=\"You are a helpful assistant that translates English to French.\"),\n",
    "        HumanMessage(content=\"I love artificial intelligence.\")\n",
    "    ],\n",
    "]"
   ]
  },
  {
   "cell_type": "code",
   "execution_count": 71,
   "metadata": {},
   "outputs": [],
   "source": [
    "result = chat.generate(batch_messages)"
   ]
  },
  {
   "cell_type": "code",
   "execution_count": null,
   "metadata": {},
   "outputs": [
    {
     "data": {
      "text/plain": [
       "LLMResult(generations=[[ChatGeneration(text=\"J'adore la programmation.\", generation_info=None, message=AIMessage(content=\"J'adore la programmation.\", additional_kwargs={}))], [ChatGeneration(text=\"J'adore l'intelligence artificielle.\", generation_info=None, message=AIMessage(content=\"J'adore l'intelligence artificielle.\", additional_kwargs={}))]], llm_output={'token_usage': {'prompt_tokens': 57, 'completion_tokens': 20, 'total_tokens': 77}, 'model_name': 'gpt-3.5-turbo'})"
      ]
     },
     "execution_count": 23,
     "metadata": {},
     "output_type": "execute_result"
    }
   ],
   "source": [
    "result"
   ]
  },
  {
   "cell_type": "code",
   "execution_count": null,
   "metadata": {},
   "outputs": [
    {
     "data": {
      "text/plain": [
       "{'token_usage': {'prompt_tokens': 57,\n",
       "  'completion_tokens': 20,\n",
       "  'total_tokens': 77},\n",
       " 'model_name': 'gpt-3.5-turbo'}"
      ]
     },
     "execution_count": 24,
     "metadata": {},
     "output_type": "execute_result"
    }
   ],
   "source": [
    "result.llm_output"
   ]
  },
  {
   "cell_type": "code",
   "execution_count": 72,
   "metadata": {},
   "outputs": [],
   "source": [
    "gpt4 = ChatOpenAI(model=\"gpt-4\", temperature=0)"
   ]
  },
  {
   "cell_type": "code",
   "execution_count": null,
   "metadata": {},
   "outputs": [
    {
     "data": {
      "text/plain": [
       "AIMessage(content=\"J'aime la programmation.\", additional_kwargs={})"
      ]
     },
     "execution_count": 39,
     "metadata": {},
     "output_type": "execute_result"
    }
   ],
   "source": [
    "gpt4(messages)"
   ]
  },
  {
   "cell_type": "code",
   "execution_count": null,
   "metadata": {},
   "outputs": [],
   "source": [
    "def chatmongo(query,database):\n",
    "    system = SystemMessage(content=\"You are a MongoDB query generator for a database with the following collections and their properties:\\n\\n\\n\" + database )\n",
    "    user = HumanMessage(content=query)\n",
    "    x = chat([system,user])\n",
    "    \n",
    "    return x "
   ]
  },
  {
   "cell_type": "code",
   "execution_count": null,
   "metadata": {},
   "outputs": [],
   "source": [
    "import gradio as gr"
   ]
  },
  {
   "cell_type": "code",
   "execution_count": null,
   "metadata": {},
   "outputs": [],
   "source": [
    "examples = [\n",
    "    [\"List the names of the departments which employed more than 10 employees\",\"Employee(_id, name, department_id)\\nDepartment(_id, name, address)\\nSalary_Payments(_id, employee_id, amount, date)\"],\n",
    "    [\"List the names of the departments which employed less than 10 employees\",\"Employee(_id, name, department_id)\\nDepartment(_id, name, address)\\nSalary_Payments(_id, employee_id, amount, date)\",]\n",
    "] "
   ]
  },
  {
   "cell_type": "code",
   "execution_count": null,
   "metadata": {},
   "outputs": [
    {
     "data": {
      "text/plain": [
       "AIMessage(content='To list the names of the departments which employed more than 10 employees, we need to perform a join between the Employee and Department collections, group the result by department_id and count the number of employees in each department. Then, we can filter the departments with more than 10 employees and project only the department names. The MongoDB query for this would be:\\n\\n```\\ndb.Employee.aggregate([\\n  {\\n    $lookup: {\\n      from: \"Department\",\\n      localField: \"department_id\",\\n      foreignField: \"_id\",\\n      as: \"department\"\\n    }\\n  },\\n  {\\n    $unwind: \"$department\"\\n  },\\n  {\\n    $group: {\\n      _id: \"$department._id\",\\n      name: { $first: \"$department.name\" },\\n      count: { $sum: 1 }\\n    }\\n  },\\n  {\\n    $match: {\\n      count: { $gt: 10 }\\n    }\\n  },\\n  {\\n    $project: {\\n      _id: 0,\\n      name: 1\\n    }\\n  }\\n])\\n```\\n\\nThis query first performs a `$lookup` to join the Employee and Department collections based on the `department_id` field. Then, it `$unwind`s the resulting array to get one document per employee. Next, it `$group`s the documents by `department_id` and counts the number of employees in each department using the `$sum` operator. It also uses the `$first` operator to get the department name. The resulting documents have `_id`, `name`, and `count` fields.\\n\\nThe query then `$match`es the documents where the `count` field is greater than 10. Finally, it `$project`s only the `name` field and excludes the `_id` field from the output.', additional_kwargs={})"
      ]
     },
     "execution_count": 53,
     "metadata": {},
     "output_type": "execute_result"
    }
   ],
   "source": [
    "example = chatmongo(\"List the names of the departments which employed more than 10 employees\",\"Employee(_id, name, department_id)\\nDepartment(_id, name, address)\\nSalary_Payments(_id, employee_id, amount, date)\")\n",
    "example"
   ]
  },
  {
   "cell_type": "code",
   "execution_count": 77,
   "metadata": {},
   "outputs": [],
   "source": [
    "def chat_fewshot_mongo(query,database):\n",
    "    mongo_messages = []\n",
    "    system = SystemMessage(content=\"You are a MongoDB query generator for a database with the following collections and their properties:\\n\\n\\n\" + database )\n",
    "    user_1 = HumanMessage(content=\"List the names of the departments which employed more than 10 employees in the last 3 months.\")\n",
    "    ai_1 = AIMessage(content=\"db.Department.aggregate([\\n  {\\n    $lookup: {\\n      from: \\\"Employee\\\",\\n      localField: \\\"_id\\\",\\n      foreignField: \\\"department_id\\\",\\n      as: \\\"employees\\\"\\n    }\\n  },\\n  {\\n    $lookup: {\\n      from: \\\"Salary_Payments\\\",\\n      localField: \\\"employees._id\\\",\\n      foreignField: \\\"employee_id\\\",\\n      as: \\\"salary_payments\\\"\\n    }\\n  },\\n  {\\n    $match: {\\n      \\\"salary_payments.date\\\": { $gte: new Date(new Date().getTime() - 1000 * 60 * 60 * 24 * 90) }\\n    }\\n  },\\n  {\\n    $group: {\\n      _id: \\\"$name\\\",\\n      employeeCount: { $sum: 1 }\\n    }\\n  },\\n  {\\n    $match: {\\n      employeeCount: { $gt: 10 }\\n    }\\n  },\\n  {\\n    $project: {\\n      _id: 0,\\n      department_name: \\\"$_id\\\"\\n    }\\n  }\\n]);\\n'''\\n\" )\n",
    "    user_2 = HumanMessage(content=\"List the names of the departments which employed more than 3 employees and has id less than 3400.\" )\n",
    "    ai_2 = AIMessage(content=\"db.Department.aggregate([\\n  {\\n    $match: { _id: { $lt: 3400 } }\\n  },\\n  {\\n    $lookup: {\\n      from: \\\"Employee\\\",\\n      localField: \\\"_id\\\",\\n      foreignField: \\\"department_id\\\",\\n      as: \\\"employees\\\"\\n    }\\n  },\\n  {\\n    $group: {\\n      _id: \\\"$name\\\",\\n      employeeCount: { $sum: { $size: \\\"$employees\\\" } }\\n    }\\n  },\\n  {\\n    $match: {\\n      employeeCount: { $gt: 3 }\\n    }\\n  },\\n  {\\n    $project: {\\n      _id: 0,\\n      department_name: \\\"$_id\\\"\\n    }\\n  }\\n]);\\n'''\")\n",
    "    user = HumanMessage(content=query)\n",
    "    mongo_messages.append(system)\n",
    "    mongo_messages.append(user_1)\n",
    "    mongo_messages.append(ai_1)\n",
    "    mongo_messages.append(user_2)\n",
    "    mongo_messages.append(ai_2)\n",
    "    mongo_messages.append(user)\n",
    "\n",
    "    x = chat(mongo_messages)\n",
    "    \n",
    "    return x "
   ]
  },
  {
   "cell_type": "code",
   "execution_count": 73,
   "metadata": {},
   "outputs": [
    {
     "data": {
      "text/plain": [
       "AIMessage(content='db.Department.aggregate([\\n  {\\n    $lookup: {\\n      from: \"Employee\",\\n      localField: \"_id\",\\n      foreignField: \"department_id\",\\n      as: \"employees\"\\n    }\\n  },\\n  {\\n    $group: {\\n      _id: \"$name\",\\n      employeeCount: { $sum: { $size: \"$employees\" } }\\n    }\\n  },\\n  {\\n    $match: {\\n      employeeCount: { $gt: 10 }\\n    }\\n  },\\n  {\\n    $project: {\\n      _id: 0,\\n      department_name: \"$_id\"\\n    }\\n  }\\n]);\\n\\'\\'\\'', additional_kwargs={})"
      ]
     },
     "execution_count": 73,
     "metadata": {},
     "output_type": "execute_result"
    }
   ],
   "source": [
    "example1 = chat_fewshot_mongo(\"List the names of the departments which employed more than 10 employees\",\"Employee(_id, name, department_id)\\nDepartment(_id, name, address)\\nSalary_Payments(_id, employee_id, amount, date)\")\n",
    "example1"
   ]
  },
  {
   "cell_type": "code",
   "execution_count": null,
   "metadata": {},
   "outputs": [],
   "source": [
    "with gr.Blocks() as demo:\n",
    "    textbox = gr.Textbox(placeholder=\"Type here...\", lines=10)\n",
    "    btn = gr.Button(\"Complete\")\n",
    "    \n",
    "    # define what will run when the button is clicked, here the textbox is used as both an input and an output\n",
    "    btn.click(fn=chat_fewshot_mongo, inputs=textbox, outputs=textbox, queue=False)"
   ]
  },
  {
   "cell_type": "code",
   "execution_count": 75,
   "metadata": {},
   "outputs": [],
   "source": [
    "demo = gr.Interface(\n",
    "    fn=chat_fewshot_mongo,\n",
    "    inputs=[\n",
    "        gr.components.Textbox(lines=5, label=\"Natural Language Query\"),\n",
    "        gr.components.Textbox(lines=5, label=\"Database Format\"),\n",
    "    ],\n",
    "    outputs=gr.components.Textbox(label=\"NoSQL Output\"),\n",
    "    examples=examples\n",
    ") "
   ]
  },
  {
   "cell_type": "code",
   "execution_count": 76,
   "metadata": {},
   "outputs": [
    {
     "name": "stdout",
     "output_type": "stream",
     "text": [
      "Running on local URL:  http://127.0.0.1:7860\n",
      "\n",
      "To create a public link, set `share=True` in `launch()`.\n"
     ]
    },
    {
     "data": {
      "text/html": [
       "<div><iframe src=\"http://127.0.0.1:7860/\" width=\"100%\" height=\"500\" allow=\"autoplay; camera; microphone; clipboard-read; clipboard-write;\" frameborder=\"0\" allowfullscreen></iframe></div>"
      ],
      "text/plain": [
       "<IPython.core.display.HTML object>"
      ]
     },
     "metadata": {},
     "output_type": "display_data"
    },
    {
     "name": "stdout",
     "output_type": "stream",
     "text": [
      "Keyboard interruption in main thread... closing server.\n"
     ]
    },
    {
     "data": {
      "text/plain": []
     },
     "execution_count": 76,
     "metadata": {},
     "output_type": "execute_result"
    }
   ],
   "source": [
    "demo.launch(share=False, debug=True) "
   ]
  }
 ],
 "metadata": {
  "kernelspec": {
   "display_name": "textgen",
   "language": "python",
   "name": "python3"
  },
  "language_info": {
   "codemirror_mode": {
    "name": "ipython",
    "version": 3
   },
   "file_extension": ".py",
   "mimetype": "text/x-python",
   "name": "python",
   "nbconvert_exporter": "python",
   "pygments_lexer": "ipython3",
   "version": "3.10.9"
  },
  "orig_nbformat": 4
 },
 "nbformat": 4,
 "nbformat_minor": 2
}
